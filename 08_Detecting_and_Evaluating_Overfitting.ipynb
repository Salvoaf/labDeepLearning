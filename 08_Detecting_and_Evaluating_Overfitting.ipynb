{
  "cells": [
    {
      "cell_type": "markdown",
      "metadata": {
        "id": "view-in-github",
        "colab_type": "text"
      },
      "source": [
        "<a href=\"https://colab.research.google.com/github/Salvoaf/labDeepLearning/blob/main/08_Detecting_and_Evaluating_Overfitting.ipynb\" target=\"_parent\"><img src=\"https://colab.research.google.com/assets/colab-badge.svg\" alt=\"Open In Colab\"/></a>"
      ]
    },
    {
      "cell_type": "code",
      "execution_count": null,
      "metadata": {
        "id": "OqBAyst6800W"
      },
      "outputs": [],
      "source": [
        "import os\n",
        "from matplotlib import pyplot as plt\n",
        "import numpy as np\n",
        "import tensorflow as tf\n",
        "import random as rn\n",
        "\n",
        "os.environ[\"PYTHONHASHSEED\"]=\"0\"\n",
        "np.random.seed(123)\n",
        "rn.seed(123)\n",
        "tf.random.set_seed(123)"
      ]
    },
    {
      "cell_type": "code",
      "execution_count": null,
      "metadata": {
        "id": "YT7VSHaW705w"
      },
      "outputs": [],
      "source": [
        "from tensorflow.keras.datasets import mnist\n",
        "(train_images, train_labels), (test_images, test_labels) = mnist.load_data()\n",
        "train_images = train_images.reshape((60000, 28 * 28))\n",
        "test_images = test_images.reshape((10000, 28 * 28))"
      ]
    },
    {
      "cell_type": "markdown",
      "metadata": {
        "id": "YnBYZ6IzCz6v"
      },
      "source": [
        "## Dataset: Training set, Validation set and Test set\n",
        "The final goal of a classification algorithm is to correctly classify a previously unseen example. Therefore it is not sufficient to solve an optimization problem on the examples used for training. \n",
        "\n",
        "To evaluate this **generalization capability** the input dataset is split into two separate sets:  training set and test set. The training set is often further split in training set and validation set.\n",
        "- the **training set** is used during training in order to increase the experience of the model. An optimization procedure finds the parameters configuration which minimizes the training error.\n",
        "- the **validation set** is a collection of examples that are not used for training: being part of the training set, we are allowed to modify the hyper-parameters of the model according to the performance of the algorithm on this set.\n",
        "- the **test set** is used to measure the actual performance of the model, thus its generalization capability. \n",
        "\n",
        "The inference capability on previously unseen examples arises from an assumption about data generating process (i.i.d. assumption): examples in training and test sets are supposed to be independent from each other and identically distributed.\n"
      ]
    },
    {
      "cell_type": "markdown",
      "metadata": {
        "id": "PQCshID1DfW_"
      },
      "source": [
        "## Capacity, Overfitting, Underfitting\n",
        "The **capacity** of a model corresponds to its degree of complexity: higher the capacity (to a first approximation, the number of parameters), wider the variety of functions it will be able to fit.\n",
        "\n",
        "If the model is given a low capacity, the error on the training set will be high: this situation is called **underfitting**. \n",
        "\n",
        "If the model is given a high capacity, it will overfit the training set, losing the capability to generalize well on a test-set. This situation is called **overfitting**. "
      ]
    },
    {
      "cell_type": "markdown",
      "metadata": {
        "id": "abdRqxN0BRdF"
      },
      "source": [
        "![img](https://miro.medium.com/max/1838/1*VK8qt-Vn8A9QIJUmvIgRUQ.png)\n"
      ]
    },
    {
      "cell_type": "markdown",
      "metadata": {
        "id": "HOC1V8-YEDsR"
      },
      "source": [
        "## Back to the MNIST example: Reduced training set"
      ]
    },
    {
      "cell_type": "markdown",
      "metadata": {
        "id": "std1YC8Yk_tJ"
      },
      "source": [
        "We put ourselves in a more challenging situation: we select a random subset of our training set to simulate a low data regime, i.e. few samples for training.\n",
        "\n",
        "We will evaluate two different models:\n",
        "- **base model** will overfit the training data\n",
        "- **regularized model** will try to fight overfitting"
      ]
    },
    {
      "cell_type": "code",
      "execution_count": null,
      "metadata": {
        "id": "xWKHVen8lgZm"
      },
      "outputs": [],
      "source": [
        "# select the subset of the training set\n",
        "subset_size = 6000\n",
        "subset_index = np.random.choice(range(len(train_labels)),size = subset_size)\n",
        "train_images_subset = train_images[subset_index,:]\n",
        "train_labels_subset = train_labels[subset_index]"
      ]
    },
    {
      "cell_type": "code",
      "execution_count": null,
      "metadata": {
        "colab": {
          "base_uri": "https://localhost:8080/"
        },
        "id": "w3HYxrp7sDOA",
        "outputId": "0e3b91a8-1382-4ad1-d3e5-ec70e5e02fdc"
      },
      "outputs": [
        {
          "output_type": "display_data",
          "data": {
            "text/plain": [
              "<Figure size 432x288 with 1 Axes>"
            ],
            "image/png": "[encoded data removed]"
          },
          "metadata": {
            "needs_background": "light"
          }
        }
      ],
      "source": [
        "plt.hist(train_labels_subset)\n",
        "plt.show()"
      ]
    },
    {
      "cell_type": "markdown",
      "metadata": {
        "id": "PjDBhll0EQ5c"
      },
      "source": [
        "### First model: Base Model"
      ]
    },
    {
      "cell_type": "markdown",
      "metadata": {
        "id": "68Xw1PTx78x6"
      },
      "source": [
        "From the [docs](https://www.tensorflow.org/api_docs/python/tf/keras/Model#fit):\n",
        "\n",
        "**validation_split**: Float between 0 and 1. Fraction of the training data to be used as validation data. The model will set apart this fraction of the training data, will not train on it, and will evaluate the loss and any model metrics on this data at the end of each epoch. The validation data is selected from the last samples in the x and y data provided, before shuffling."
      ]
    },
    {
      "cell_type": "code",
      "execution_count": null,
      "metadata": {
        "id": "pa0WColj9PF1"
      },
      "outputs": [],
      "source": [
        "batch_size = 128 #how many examples the network exmperiments at every step"
      ]
    },
    {
      "cell_type": "code",
      "execution_count": null,
      "metadata": {
        "colab": {
          "base_uri": "https://localhost:8080/"
        },
        "id": "CcrPUgNYD4bU",
        "outputId": "394fb441-26cc-4729-f452-0d1996153fd3"
      },
      "outputs": [
        {
          "output_type": "stream",
          "name": "stdout",
          "text": [
            "Model: \"sequential\"\n",
            "_________________________________________________________________\n",
            " Layer (type)                Output Shape              Param #   \n",
            "=================================================================\n",
            " dense (Dense)               (None, 64)                50240     \n",
            "                                                                 \n",
            " dense_1 (Dense)             (None, 64)                4160      \n",
            "                                                                 \n",
            " dense_2 (Dense)             (None, 10)                650       \n",
            "                                                                 \n",
            "=================================================================\n",
            "Total params: 55,050\n",
            "Trainable params: 55,050\n",
            "Non-trainable params: 0\n",
            "_________________________________________________________________\n",
            "Epoch 1/50\n",
            "43/43 [==============================] - 2s 19ms/step - loss: 16.1193 - accuracy: 0.5183 - val_loss: 4.5941 - val_accuracy: 0.6717\n",
            "Epoch 2/50\n",
            "43/43 [==============================] - 0s 11ms/step - loss: 2.8031 - accuracy: 0.7685 - val_loss: 2.7267 - val_accuracy: 0.7733\n",
            "Epoch 3/50\n",
            "43/43 [==============================] - 0s 10ms/step - loss: 1.4924 - accuracy: 0.8337 - val_loss: 2.2743 - val_accuracy: 0.8017\n",
            "Epoch 4/50\n",
            "43/43 [==============================] - 0s 11ms/step - loss: 0.9686 - accuracy: 0.8728 - val_loss: 1.9707 - val_accuracy: 0.8417\n",
            "Epoch 5/50\n",
            "43/43 [==============================] - 1s 14ms/step - loss: 0.6840 - accuracy: 0.8967 - val_loss: 1.8245 - val_accuracy: 0.8417\n",
            "Epoch 6/50\n",
            "43/43 [==============================] - 1s 13ms/step - loss: 0.5360 - accuracy: 0.9093 - val_loss: 1.6781 - val_accuracy: 0.8417\n",
            "Epoch 7/50\n",
            "43/43 [==============================] - 1s 15ms/step - loss: 0.3822 - accuracy: 0.9256 - val_loss: 1.7225 - val_accuracy: 0.8567\n",
            "Epoch 8/50\n",
            "43/43 [==============================] - 0s 10ms/step - loss: 0.2982 - accuracy: 0.9369 - val_loss: 1.7277 - val_accuracy: 0.8567\n",
            "Epoch 9/50\n",
            "43/43 [==============================] - 1s 12ms/step - loss: 0.2674 - accuracy: 0.9400 - val_loss: 1.6392 - val_accuracy: 0.8533\n",
            "Epoch 10/50\n",
            "43/43 [==============================] - 0s 8ms/step - loss: 0.1937 - accuracy: 0.9581 - val_loss: 1.5189 - val_accuracy: 0.8600\n",
            "Epoch 11/50\n",
            "43/43 [==============================] - 0s 10ms/step - loss: 0.1257 - accuracy: 0.9672 - val_loss: 1.5082 - val_accuracy: 0.8583\n",
            "Epoch 12/50\n",
            "43/43 [==============================] - 1s 13ms/step - loss: 0.0849 - accuracy: 0.9759 - val_loss: 1.5594 - val_accuracy: 0.8750\n",
            "Epoch 13/50\n",
            "43/43 [==============================] - 0s 9ms/step - loss: 0.0622 - accuracy: 0.9811 - val_loss: 1.5177 - val_accuracy: 0.8783\n",
            "Epoch 14/50\n",
            "43/43 [==============================] - 1s 12ms/step - loss: 0.0483 - accuracy: 0.9854 - val_loss: 1.4406 - val_accuracy: 0.8817\n",
            "Epoch 15/50\n",
            "43/43 [==============================] - 0s 11ms/step - loss: 0.0512 - accuracy: 0.9857 - val_loss: 1.4485 - val_accuracy: 0.8817\n",
            "Epoch 16/50\n",
            "43/43 [==============================] - 1s 12ms/step - loss: 0.0280 - accuracy: 0.9926 - val_loss: 1.4173 - val_accuracy: 0.8800\n",
            "Epoch 17/50\n",
            "43/43 [==============================] - 0s 10ms/step - loss: 0.0199 - accuracy: 0.9946 - val_loss: 1.4683 - val_accuracy: 0.8817\n",
            "Epoch 18/50\n",
            "43/43 [==============================] - 1s 13ms/step - loss: 0.0118 - accuracy: 0.9974 - val_loss: 1.4442 - val_accuracy: 0.8833\n",
            "Epoch 19/50\n",
            "43/43 [==============================] - 0s 10ms/step - loss: 0.0091 - accuracy: 0.9980 - val_loss: 1.4444 - val_accuracy: 0.8833\n",
            "Epoch 20/50\n",
            "43/43 [==============================] - 0s 10ms/step - loss: 0.0071 - accuracy: 0.9987 - val_loss: 1.4445 - val_accuracy: 0.8850\n",
            "Epoch 21/50\n",
            "43/43 [==============================] - 1s 12ms/step - loss: 0.0060 - accuracy: 0.9991 - val_loss: 1.4436 - val_accuracy: 0.8883\n",
            "Epoch 22/50\n",
            "43/43 [==============================] - 0s 10ms/step - loss: 0.0049 - accuracy: 0.9993 - val_loss: 1.4612 - val_accuracy: 0.8867\n",
            "Epoch 23/50\n",
            "43/43 [==============================] - 1s 15ms/step - loss: 0.0041 - accuracy: 0.9994 - val_loss: 1.4576 - val_accuracy: 0.8883\n",
            "Epoch 24/50\n",
            "43/43 [==============================] - 0s 8ms/step - loss: 0.0036 - accuracy: 0.9994 - val_loss: 1.4511 - val_accuracy: 0.8883\n",
            "Epoch 25/50\n",
            "43/43 [==============================] - 0s 5ms/step - loss: 0.0031 - accuracy: 0.9996 - val_loss: 1.4641 - val_accuracy: 0.8817\n",
            "Epoch 26/50\n",
            "43/43 [==============================] - 0s 5ms/step - loss: 0.0027 - accuracy: 0.9998 - val_loss: 1.4662 - val_accuracy: 0.8833\n",
            "Epoch 27/50\n",
            "43/43 [==============================] - 0s 5ms/step - loss: 0.0026 - accuracy: 0.9996 - val_loss: 1.4623 - val_accuracy: 0.8883\n",
            "Epoch 28/50\n",
            "43/43 [==============================] - 0s 6ms/step - loss: 0.0023 - accuracy: 1.0000 - val_loss: 1.4678 - val_accuracy: 0.8867\n",
            "Epoch 29/50\n",
            "43/43 [==============================] - 0s 6ms/step - loss: 0.0022 - accuracy: 0.9998 - val_loss: 1.4718 - val_accuracy: 0.8833\n",
            "Epoch 30/50\n",
            "43/43 [==============================] - 0s 5ms/step - loss: 0.0020 - accuracy: 1.0000 - val_loss: 1.4678 - val_accuracy: 0.8883\n",
            "Epoch 31/50\n",
            "43/43 [==============================] - 0s 6ms/step - loss: 0.0019 - accuracy: 1.0000 - val_loss: 1.4701 - val_accuracy: 0.8867\n",
            "Epoch 32/50\n",
            "43/43 [==============================] - 0s 5ms/step - loss: 0.0017 - accuracy: 1.0000 - val_loss: 1.4739 - val_accuracy: 0.8883\n",
            "Epoch 33/50\n",
            "43/43 [==============================] - 0s 5ms/step - loss: 0.0016 - accuracy: 1.0000 - val_loss: 1.4774 - val_accuracy: 0.8867\n",
            "Epoch 34/50\n",
            "43/43 [==============================] - 0s 5ms/step - loss: 0.0015 - accuracy: 1.0000 - val_loss: 1.4829 - val_accuracy: 0.8850\n",
            "Epoch 35/50\n",
            "43/43 [==============================] - 0s 5ms/step - loss: 0.0014 - accuracy: 1.0000 - val_loss: 1.4783 - val_accuracy: 0.8883\n",
            "Epoch 36/50\n",
            "43/43 [==============================] - 0s 6ms/step - loss: 0.0013 - accuracy: 1.0000 - val_loss: 1.4839 - val_accuracy: 0.8883\n",
            "Epoch 37/50\n",
            "43/43 [==============================] - 0s 6ms/step - loss: 0.0013 - accuracy: 1.0000 - val_loss: 1.4855 - val_accuracy: 0.8883\n",
            "Epoch 38/50\n",
            "43/43 [==============================] - 0s 5ms/step - loss: 0.0012 - accuracy: 1.0000 - val_loss: 1.4861 - val_accuracy: 0.8883\n",
            "Epoch 39/50\n",
            "43/43 [==============================] - 0s 6ms/step - loss: 0.0011 - accuracy: 1.0000 - val_loss: 1.4946 - val_accuracy: 0.8867\n",
            "Epoch 40/50\n",
            "43/43 [==============================] - 0s 6ms/step - loss: 0.0010 - accuracy: 1.0000 - val_loss: 1.4911 - val_accuracy: 0.8867\n",
            "Epoch 41/50\n",
            "43/43 [==============================] - 0s 6ms/step - loss: 0.0010 - accuracy: 1.0000 - val_loss: 1.4933 - val_accuracy: 0.8883\n",
            "Epoch 42/50\n",
            "43/43 [==============================] - 0s 6ms/step - loss: 9.4690e-04 - accuracy: 1.0000 - val_loss: 1.4913 - val_accuracy: 0.8850\n",
            "Epoch 43/50\n",
            "43/43 [==============================] - 0s 6ms/step - loss: 9.2270e-04 - accuracy: 1.0000 - val_loss: 1.4964 - val_accuracy: 0.8900\n",
            "Epoch 44/50\n",
            "43/43 [==============================] - 0s 5ms/step - loss: 8.9839e-04 - accuracy: 1.0000 - val_loss: 1.4962 - val_accuracy: 0.8850\n",
            "Epoch 45/50\n",
            "43/43 [==============================] - 0s 6ms/step - loss: 8.4512e-04 - accuracy: 1.0000 - val_loss: 1.4943 - val_accuracy: 0.8867\n",
            "Epoch 46/50\n",
            "43/43 [==============================] - 0s 5ms/step - loss: 7.8555e-04 - accuracy: 1.0000 - val_loss: 1.4947 - val_accuracy: 0.8883\n",
            "Epoch 47/50\n",
            "43/43 [==============================] - 0s 5ms/step - loss: 7.5261e-04 - accuracy: 1.0000 - val_loss: 1.5005 - val_accuracy: 0.8867\n",
            "Epoch 48/50\n",
            "43/43 [==============================] - 0s 5ms/step - loss: 7.0843e-04 - accuracy: 1.0000 - val_loss: 1.4967 - val_accuracy: 0.8883\n",
            "Epoch 49/50\n",
            "43/43 [==============================] - 0s 6ms/step - loss: 6.8717e-04 - accuracy: 1.0000 - val_loss: 1.4951 - val_accuracy: 0.8900\n",
            "Epoch 50/50\n",
            "43/43 [==============================] - 0s 5ms/step - loss: 6.6141e-04 - accuracy: 1.0000 - val_loss: 1.5016 - val_accuracy: 0.8867\n"
          ]
        }
      ],
      "source": [
        "np.random.seed(123)\n",
        "rn.seed(123)\n",
        "tf.random.set_seed(123)\n",
        "\n",
        "from tensorflow.keras import models\n",
        "from tensorflow.keras import layers\n",
        "\n",
        "base_model = models.Sequential()\n",
        "base_model.add(layers.Dense(64, activation='relu', input_shape=(28*28,)))\n",
        "base_model.add(layers.Dense(64, activation='relu'))\n",
        "base_model.add(layers.Dense(10, activation='softmax'))\n",
        "base_model.summary() \n",
        "base_model.compile(optimizer='adam',\n",
        "                   loss='sparse_categorical_crossentropy',\n",
        "                   metrics=['accuracy']) \n",
        "history_base = base_model.fit(train_images_subset, \n",
        "                              train_labels_subset, \n",
        "                              epochs=50, \n",
        "                              batch_size=batch_size,\n",
        "                              validation_split = 0.1, # evaluate the generalization capability of our model \n",
        "                              shuffle = True)"
      ]
    },
    {
      "cell_type": "code",
      "execution_count": null,
      "metadata": {
        "colab": {
          "base_uri": "https://localhost:8080/"
        },
        "id": "ZrH5uu6oQ8Ly",
        "outputId": "37a42d3f-caaf-4e49-a31c-9f1ef2fe14f2"
      },
      "outputs": [
        {
          "output_type": "stream",
          "name": "stdout",
          "text": [
            "313/313 [==============================] - 1s 2ms/step - loss: 1.5039 - accuracy: 0.8693\n",
            "test_acc: 0.8693000078201294\n"
          ]
        }
      ],
      "source": [
        "base_model_loss, base_model_acc = base_model.evaluate(test_images, test_labels)\n",
        "print('test_acc:', base_model_acc)"
      ]
    },
    {
      "cell_type": "code",
      "execution_count": null,
      "metadata": {
        "colab": {
          "base_uri": "https://localhost:8080/"
        },
        "id": "AbaHlhrxFvtg",
        "outputId": "163a56ec-6198-4c42-d321-8ecc60646011"
      },
      "outputs": [
        {
          "output_type": "stream",
          "name": "stdout",
          "text": [
            "model deleted\n"
          ]
        }
      ],
      "source": [
        "from tensorflow.keras import backend as K\n",
        "del base_model\n",
        "print('model deleted')\n",
        "K.clear_session()"
      ]
    },
    {
      "cell_type": "markdown",
      "metadata": {
        "id": "Us0qcZ4YDKA3"
      },
      "source": [
        "### Second model: Regularized Model\n",
        "\n",
        "A form of regularization is added to our model: it consists in a modiﬁcation to our learning algorithm that aims at reducing its generalization error but not its training error."
      ]
    },
    {
      "cell_type": "code",
      "execution_count": null,
      "metadata": {
        "colab": {
          "base_uri": "https://localhost:8080/"
        },
        "id": "DDRl3UYCFg6d",
        "outputId": "f711c64e-5163-45cc-b7c3-6902e6ba619f"
      },
      "outputs": [
        {
          "output_type": "stream",
          "name": "stdout",
          "text": [
            "Model: \"sequential\"\n",
            "_________________________________________________________________\n",
            " Layer (type)                Output Shape              Param #   \n",
            "=================================================================\n",
            " dense (Dense)               (None, 64)                50240     \n",
            "                                                                 \n",
            " dropout (Dropout)           (None, 64)                0         \n",
            "                                                                 \n",
            " dense_1 (Dense)             (None, 64)                4160      \n",
            "                                                                 \n",
            " dropout_1 (Dropout)         (None, 64)                0         \n",
            "                                                                 \n",
            " dense_2 (Dense)             (None, 10)                650       \n",
            "                                                                 \n",
            "=================================================================\n",
            "Total params: 55,050\n",
            "Trainable params: 55,050\n",
            "Non-trainable params: 0\n",
            "_________________________________________________________________\n",
            "Epoch 1/50\n",
            "43/43 [==============================] - 1s 10ms/step - loss: 19.3782 - accuracy: 0.3856 - val_loss: 2.9702 - val_accuracy: 0.5067\n",
            "Epoch 2/50\n",
            "43/43 [==============================] - 0s 6ms/step - loss: 2.4526 - accuracy: 0.4433 - val_loss: 1.7100 - val_accuracy: 0.5200\n",
            "Epoch 3/50\n",
            "43/43 [==============================] - 0s 5ms/step - loss: 1.6926 - accuracy: 0.5024 - val_loss: 1.4501 - val_accuracy: 0.5783\n",
            "Epoch 4/50\n",
            "43/43 [==============================] - 0s 5ms/step - loss: 1.4673 - accuracy: 0.5589 - val_loss: 1.3075 - val_accuracy: 0.6117\n",
            "Epoch 5/50\n",
            "43/43 [==============================] - 0s 5ms/step - loss: 1.2763 - accuracy: 0.6046 - val_loss: 1.1942 - val_accuracy: 0.6700\n",
            "Epoch 6/50\n",
            "43/43 [==============================] - 0s 6ms/step - loss: 1.1211 - accuracy: 0.6557 - val_loss: 1.1642 - val_accuracy: 0.7000\n",
            "Epoch 7/50\n",
            "43/43 [==============================] - 0s 5ms/step - loss: 1.0397 - accuracy: 0.7067 - val_loss: 1.0825 - val_accuracy: 0.7067\n",
            "Epoch 8/50\n",
            "43/43 [==============================] - 0s 5ms/step - loss: 0.9651 - accuracy: 0.7243 - val_loss: 0.9440 - val_accuracy: 0.7733\n",
            "Epoch 9/50\n",
            "43/43 [==============================] - 0s 6ms/step - loss: 0.8893 - accuracy: 0.7478 - val_loss: 0.9679 - val_accuracy: 0.7883\n",
            "Epoch 10/50\n",
            "43/43 [==============================] - 0s 5ms/step - loss: 0.8423 - accuracy: 0.7620 - val_loss: 0.9566 - val_accuracy: 0.7800\n",
            "Epoch 11/50\n",
            "43/43 [==============================] - 0s 5ms/step - loss: 0.7574 - accuracy: 0.7843 - val_loss: 0.8077 - val_accuracy: 0.8217\n",
            "Epoch 12/50\n",
            "43/43 [==============================] - 0s 7ms/step - loss: 0.7062 - accuracy: 0.7987 - val_loss: 0.8374 - val_accuracy: 0.8283\n",
            "Epoch 13/50\n",
            "43/43 [==============================] - 0s 6ms/step - loss: 0.6657 - accuracy: 0.8091 - val_loss: 0.8016 - val_accuracy: 0.8467\n",
            "Epoch 14/50\n",
            "43/43 [==============================] - 0s 6ms/step - loss: 0.6256 - accuracy: 0.8239 - val_loss: 0.8101 - val_accuracy: 0.8467\n",
            "Epoch 15/50\n",
            "43/43 [==============================] - 0s 6ms/step - loss: 0.5782 - accuracy: 0.8352 - val_loss: 0.7329 - val_accuracy: 0.8583\n",
            "Epoch 16/50\n",
            "43/43 [==============================] - 0s 6ms/step - loss: 0.5882 - accuracy: 0.8387 - val_loss: 0.7717 - val_accuracy: 0.8217\n",
            "Epoch 17/50\n",
            "43/43 [==============================] - 0s 6ms/step - loss: 0.5754 - accuracy: 0.8276 - val_loss: 0.8392 - val_accuracy: 0.8383\n",
            "Epoch 18/50\n",
            "43/43 [==============================] - 0s 6ms/step - loss: 0.5573 - accuracy: 0.8409 - val_loss: 0.6953 - val_accuracy: 0.8617\n",
            "Epoch 19/50\n",
            "43/43 [==============================] - 0s 6ms/step - loss: 0.5125 - accuracy: 0.8519 - val_loss: 0.7823 - val_accuracy: 0.8850\n",
            "Epoch 20/50\n",
            "43/43 [==============================] - 0s 6ms/step - loss: 0.4931 - accuracy: 0.8550 - val_loss: 0.7104 - val_accuracy: 0.8750\n",
            "Epoch 21/50\n",
            "43/43 [==============================] - 0s 7ms/step - loss: 0.4411 - accuracy: 0.8683 - val_loss: 0.7810 - val_accuracy: 0.8800\n",
            "Epoch 22/50\n",
            "43/43 [==============================] - 0s 6ms/step - loss: 0.4429 - accuracy: 0.8702 - val_loss: 0.7541 - val_accuracy: 0.8633\n",
            "Epoch 23/50\n",
            "43/43 [==============================] - 0s 5ms/step - loss: 0.4394 - accuracy: 0.8761 - val_loss: 0.7735 - val_accuracy: 0.8800\n",
            "Epoch 24/50\n",
            "43/43 [==============================] - 0s 5ms/step - loss: 0.4042 - accuracy: 0.8783 - val_loss: 0.6720 - val_accuracy: 0.8900\n",
            "Epoch 25/50\n",
            "43/43 [==============================] - 0s 6ms/step - loss: 0.4325 - accuracy: 0.8741 - val_loss: 0.7209 - val_accuracy: 0.8717\n",
            "Epoch 26/50\n",
            "43/43 [==============================] - 0s 5ms/step - loss: 0.3872 - accuracy: 0.8813 - val_loss: 0.6673 - val_accuracy: 0.9000\n",
            "Epoch 27/50\n",
            "43/43 [==============================] - 0s 5ms/step - loss: 0.3846 - accuracy: 0.8869 - val_loss: 0.6930 - val_accuracy: 0.8900\n",
            "Epoch 28/50\n",
            "43/43 [==============================] - 0s 5ms/step - loss: 0.3972 - accuracy: 0.8857 - val_loss: 0.7247 - val_accuracy: 0.8917\n",
            "Epoch 29/50\n",
            "43/43 [==============================] - 0s 6ms/step - loss: 0.3618 - accuracy: 0.8928 - val_loss: 0.6286 - val_accuracy: 0.9000\n",
            "Epoch 30/50\n",
            "43/43 [==============================] - 0s 5ms/step - loss: 0.3756 - accuracy: 0.8885 - val_loss: 0.7075 - val_accuracy: 0.8983\n",
            "Epoch 31/50\n",
            "43/43 [==============================] - 0s 6ms/step - loss: 0.3357 - accuracy: 0.8989 - val_loss: 0.6888 - val_accuracy: 0.8983\n",
            "Epoch 32/50\n",
            "43/43 [==============================] - 0s 6ms/step - loss: 0.3408 - accuracy: 0.9019 - val_loss: 0.7281 - val_accuracy: 0.9017\n",
            "Epoch 33/50\n",
            "43/43 [==============================] - 0s 6ms/step - loss: 0.3595 - accuracy: 0.8957 - val_loss: 0.8368 - val_accuracy: 0.8867\n",
            "Epoch 34/50\n",
            "43/43 [==============================] - 0s 6ms/step - loss: 0.3285 - accuracy: 0.9044 - val_loss: 0.7454 - val_accuracy: 0.8800\n",
            "Epoch 35/50\n",
            "43/43 [==============================] - 0s 5ms/step - loss: 0.2977 - accuracy: 0.9094 - val_loss: 0.6964 - val_accuracy: 0.9017\n",
            "Epoch 36/50\n",
            "43/43 [==============================] - 0s 5ms/step - loss: 0.2830 - accuracy: 0.9165 - val_loss: 0.6612 - val_accuracy: 0.9033\n",
            "Epoch 37/50\n",
            "43/43 [==============================] - 0s 6ms/step - loss: 0.3169 - accuracy: 0.9044 - val_loss: 0.6585 - val_accuracy: 0.8867\n",
            "Epoch 38/50\n",
            "43/43 [==============================] - 0s 5ms/step - loss: 0.3077 - accuracy: 0.9054 - val_loss: 0.7388 - val_accuracy: 0.8950\n",
            "Epoch 39/50\n",
            "43/43 [==============================] - 0s 6ms/step - loss: 0.3235 - accuracy: 0.9080 - val_loss: 0.7211 - val_accuracy: 0.8950\n",
            "Epoch 40/50\n",
            "43/43 [==============================] - 0s 6ms/step - loss: 0.3174 - accuracy: 0.9122 - val_loss: 0.8226 - val_accuracy: 0.8883\n",
            "Epoch 41/50\n",
            "43/43 [==============================] - 0s 6ms/step - loss: 0.3035 - accuracy: 0.9091 - val_loss: 0.7612 - val_accuracy: 0.9050\n",
            "Epoch 42/50\n",
            "43/43 [==============================] - 0s 5ms/step - loss: 0.2944 - accuracy: 0.9128 - val_loss: 0.6551 - val_accuracy: 0.9033\n",
            "Epoch 43/50\n",
            "43/43 [==============================] - 0s 6ms/step - loss: 0.2934 - accuracy: 0.9128 - val_loss: 0.6297 - val_accuracy: 0.8983\n",
            "Epoch 44/50\n",
            "43/43 [==============================] - 0s 6ms/step - loss: 0.2679 - accuracy: 0.9183 - val_loss: 0.7145 - val_accuracy: 0.8967\n",
            "Epoch 45/50\n",
            "43/43 [==============================] - 0s 6ms/step - loss: 0.2698 - accuracy: 0.9226 - val_loss: 0.6674 - val_accuracy: 0.9050\n",
            "Epoch 46/50\n",
            "43/43 [==============================] - 0s 6ms/step - loss: 0.2894 - accuracy: 0.9146 - val_loss: 0.6749 - val_accuracy: 0.8917\n",
            "Epoch 47/50\n",
            "43/43 [==============================] - 0s 5ms/step - loss: 0.2547 - accuracy: 0.9256 - val_loss: 0.7706 - val_accuracy: 0.9067\n",
            "Epoch 48/50\n",
            "43/43 [==============================] - 0s 5ms/step - loss: 0.2603 - accuracy: 0.9259 - val_loss: 0.6220 - val_accuracy: 0.9050\n",
            "Epoch 49/50\n",
            "43/43 [==============================] - 0s 6ms/step - loss: 0.2494 - accuracy: 0.9272 - val_loss: 0.7067 - val_accuracy: 0.9150\n",
            "Epoch 50/50\n",
            "43/43 [==============================] - 0s 6ms/step - loss: 0.2461 - accuracy: 0.9287 - val_loss: 0.6924 - val_accuracy: 0.9217\n"
          ]
        }
      ],
      "source": [
        "np.random.seed(123)\n",
        "rn.seed(123)\n",
        "tf.random.set_seed(123)\n",
        "\n",
        "from tensorflow.keras import models\n",
        "from tensorflow.keras import layers\n",
        "\n",
        "regularized_model = models.Sequential()\n",
        "regularized_model.add(layers.Dense(64, activation='relu', input_shape=(28*28,)))\n",
        "regularized_model.add(layers.Dropout(0.1))\n",
        "regularized_model.add(layers.Dense(64, activation='relu'))\n",
        "regularized_model.add(layers.Dropout(0.1))\n",
        "regularized_model.add(layers.Dense(10, activation='softmax'))\n",
        "regularized_model.summary()\n",
        "\n",
        "regularized_model.compile(optimizer='adam',\n",
        "                          loss='sparse_categorical_crossentropy',\n",
        "                          metrics=['accuracy'])\n",
        "\n",
        "history_regularized = regularized_model.fit(train_images_subset, \n",
        "                                            train_labels_subset, \n",
        "                                            epochs=50, \n",
        "                                            batch_size=batch_size,\n",
        "                                            validation_split = 0.1,\n",
        "                                            shuffle = True)"
      ]
    },
    {
      "cell_type": "code",
      "execution_count": null,
      "metadata": {
        "colab": {
          "base_uri": "https://localhost:8080/"
        },
        "id": "LPRxqyEfQ0DR",
        "outputId": "31f18e20-2305-4649-865e-425b2ecb5115"
      },
      "outputs": [
        {
          "output_type": "stream",
          "name": "stdout",
          "text": [
            "base model accuracy: 0.8693000078201294\n",
            "313/313 [==============================] - 1s 2ms/step - loss: 0.7648 - accuracy: 0.8995\n",
            "regularized model accuracy: 0.8995000123977661\n"
          ]
        }
      ],
      "source": [
        "print('base model accuracy:', base_model_acc)\n",
        "test_loss, test_acc = regularized_model.evaluate(test_images, test_labels)\n",
        "print('regularized model accuracy:', test_acc)"
      ]
    },
    {
      "cell_type": "code",
      "execution_count": null,
      "metadata": {
        "id": "3jXh2_uXFycI"
      },
      "outputs": [],
      "source": [
        "del regularized_model\n",
        "K.clear_session()"
      ]
    },
    {
      "cell_type": "code",
      "execution_count": null,
      "metadata": {
        "colab": {
          "base_uri": "https://localhost:8080/"
        },
        "id": "E1V0hMaCO5Hw",
        "outputId": "c44e53c0-263f-457c-dd16-14c819c56e76"
      },
      "outputs": [
        {
          "output_type": "display_data",
          "data": {
            "text/plain": [
              "<Figure size 720x360 with 1 Axes>"
            ],
            "image/png": "[encoded data removed]"
          },
          "metadata": {
            "needs_background": "light"
          }
        }
      ],
      "source": [
        "plt.figure(figsize=(10,5))\n",
        "plt.title('VALIDATION LOSS')\n",
        "plt.plot(history_base.history['val_loss'],'b-',label = 'Base')\n",
        "plt.plot(history_regularized.history['val_loss'],'r-',label = 'Regularized')\n",
        "plt.legend()\n",
        "plt.show()"
      ]
    },
    {
      "cell_type": "code",
      "execution_count": null,
      "metadata": {
        "colab": {
          "base_uri": "https://localhost:8080/"
        },
        "id": "9xqVXrlNJ-q1",
        "outputId": "d42d1113-d231-4877-f5f2-504c811928fe"
      },
      "outputs": [
        {
          "output_type": "display_data",
          "data": {
            "text/plain": [
              "<Figure size 720x360 with 1 Axes>"
            ],
            "image/png": "[encoded data removed]"
          },
          "metadata": {
            "needs_background": "light"
          }
        }
      ],
      "source": [
        "plt.figure(figsize=(10,5))\n",
        "plt.title('ACCURACY')\n",
        "plt.plot(history_base.history['accuracy'],'bo',label = 'Base Train ')\n",
        "plt.plot(history_base.history['val_accuracy'],'b-',label = 'Base Val')\n",
        "plt.plot(history_regularized.history['accuracy'],'ro',label = 'Regularized Train')\n",
        "plt.plot(history_regularized.history['val_accuracy'],'r-',label = 'Regularized Val')\n",
        "plt.legend()\n",
        "plt.show()"
      ]
    },
    {
      "cell_type": "markdown",
      "metadata": {
        "id": "utcu3dUN1YVW"
      },
      "source": [
        "Note that:\n",
        "- validation loss curve for regularized model shows a slight improvement with respect to the one of base model.\n",
        "- notwithstanding, validation accuracy for the base model closely trails the one of regularized model. \n",
        "- we obtained a better generalization on the test set\n",
        "\n",
        "Why is the gap between the loss plots not also found in the accuracy plots?\n",
        "\n",
        "\n",
        "To answer this question, consider that what we display is an average of pointwise loss values, but what actually matters for accuracy is the distribution of the loss values, not their average:  accuracy, in fact, is the result of a thresholding of the class probability predicted by the model. Indeed, the model may still be improving even if this isn't reflected in the average loss."
      ]
    },
    {
      "cell_type": "code",
      "source": [
        "y_true = np.array([[1, 0, 0], [0, 1, 0], [0, 1, 0]])\n",
        "\n",
        "y_pred1 = np.array([[0.9, 0.05, 0.05], [0.5, 0.45, 0.05], [0.1, 0.4, 0.5]])\n",
        "y_pred2 = np.array([[0.6, 0.2, 0.2], [0.2, 0.6, 0.2], [0.5, 0.4, 0.1]])\n",
        "\n",
        "cce = tf.keras.losses.CategoricalCrossentropy()\n",
        "acc = tf.keras.metrics.Accuracy()\n",
        "\n",
        "acc.update_state(np.argmax(y_true, axis=1), np.argmax(y_pred1, axis=1))\n",
        "\n",
        "print(f'1) Loss = {cce(y_true, y_pred1).numpy()}, accuracy = {acc.result().numpy()}')\n",
        "\n",
        "acc.reset_state()\n",
        "acc.update_state(np.argmax(y_true, axis=1), np.argmax(y_pred2, axis=1))\n",
        "\n",
        "print(f'2) Loss = {cce(y_true, y_pred2).numpy()}, accuracy = {acc.result().numpy()}')"
      ],
      "metadata": {
        "colab": {
          "base_uri": "https://localhost:8080/"
        },
        "id": "HGrpB8ZkMqFD",
        "outputId": "e3ad4cf3-c5aa-4386-d13d-992c44dbcdfe"
      },
      "execution_count": null,
      "outputs": [
        {
          "output_type": "stream",
          "name": "stdout",
          "text": [
            "1) Loss = 0.6067196479165843, accuracy = 0.3333333432674408\n",
            "2) Loss = 0.6459806598020456, accuracy = 0.6666666865348816\n"
          ]
        }
      ]
    },
    {
      "cell_type": "markdown",
      "metadata": {
        "id": "D2CGLV0_dEsP"
      },
      "source": [
        "## Fighting Overfitting\n",
        "The most common ways to prevent overfitting in neural networks are:\n",
        "- **Getting more training data**: a model trained on more (quality) data will naturally generalize better. Gathering more data may be even more useful than improving the learning algorithm.\n",
        "\n",
        "- **Performing dataset augmentation**: The restricted size of available databases is one of the central issue in many machine learning applications. Gathering and annotating new data is often a difficult task. A solution, particularly adopted with images, is to introduce several types of transformation or distortion that consist in an artificial dataset augmentation. \n",
        "\n",
        "- **Reducing the capacity of the network**: Overfitting is the use of models or procedures that violate [Occam's razor](https://en.wikipedia.org/wiki/Occam%27s_razor) (paraphrasable as: *The simplest solution is most likely the right one*) for example by uselessly including a high number of adjustable parameters, or by using a more complicated approach than the one is ultimately optimal. If a network can only afford to memorize a small number of patterns, the optimization process will force it to focus on the patterns that have a better chance of generalizing well.\n",
        "\n",
        "- **Adding weight regularization**: this technique consists in forcing the weights of a network to only take small values: it is achieved by adding a parameter norm penalty $\\theta(w)$ (associated with having large weights) to the loss function of the network $J(w)$. As a consequentce: $J(w) = J(w)+\\lambda\\theta(w)$. For example:\n",
        "  - with *L2 regularization*, the penalty is proportional to the squared value of the weights coefficients\n",
        "  - with *L1 regularization*, the penalty is proportional to the absolute value of the weights coefficients\n",
        "\n",
        "- **Adding dropout**: this technique is widely used to reduce overfitting in neural network: when dropout is applied to a layer, at every training step every unit of that layer is kept with probability p, otherwise it is temporarily ignored. During evaluation (i.e. inference on validation or test set) the dropout is turned-off and all the\n",
        "neurons are kept.  Dropout effect could be seen from two points of view. On one hand, by randomly sampling the neurons to delete at every step, it reduces the co-adaptation phenomenon between neurons; on the other hand, it results in a procedure that trains a variety of different neural networks (i.e. different number of units per layer). These subnetworks are supposed to overfit the training set in different way, so the global network should be able to generalize better.<br>\n",
        "![dropout](https://static.commonlounge.com/fp/600w/aOLPWvdc8ukd8GTFUhff2RtcA1520492906_kc)\n",
        "<br>\n",
        "\n",
        "[Geoffry Hinton](https://en.wikipedia.org/wiki/Geoffrey_Hinton) - The idea behind dropout: \"*I went to my bank. The tellers kept changing and I asked one of them why. He said he didn’t know but they got moved around a lot. I figured it must be because it would require cooperation between employees to successfully defraud the bank. This made me realize that randomly removing a different subset of neurons on each example would prevent conspiracies and thus reduce overfitting.*\"\n",
        "\n",
        "\n"
      ]
    },
    {
      "cell_type": "markdown",
      "metadata": {
        "id": "23z1MdHYyl3P"
      },
      "source": [
        "# Exercise\n",
        "\n",
        "Try to vary the hyperparameter of your model\n",
        "- number of layers / units per layer\n",
        "- optimizer learning rate\n",
        "- dropout rate\n",
        "- Add L1 or L2 regularization\n",
        "  - https://www.tensorflow.org/api_docs/python/tf/keras/layers/Dense  \n",
        "  - https://www.tensorflow.org/api_docs/python/tf/keras/regularizers\n",
        "\n",
        "\n",
        "Share your best model with the class!\n",
        "\n"
      ]
    },
    {
      "cell_type": "markdown",
      "metadata": {
        "id": "ibWgJvFJgm3c"
      },
      "source": [
        "# Further reading\n",
        "- Interactive learning with [Tensorflow Playground](https://playground.tensorflow.org)"
      ]
    }
  ],
  "metadata": {
    "colab": {
      "provenance": [],
      "collapsed_sections": [],
      "include_colab_link": true
    },
    "kernelspec": {
      "display_name": "Python 3",
      "name": "python3"
    },
    "language_info": {
      "name": "python"
    }
  },
  "nbformat": 4,
  "nbformat_minor": 0
}