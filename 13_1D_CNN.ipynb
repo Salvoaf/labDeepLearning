{
  "cells": [
    {
      "cell_type": "markdown",
      "metadata": {
        "id": "view-in-github",
        "colab_type": "text"
      },
      "source": [
        "<a href=\"https://colab.research.google.com/github/Salvoaf/labDeepLearning/blob/main/13_1D_CNN.ipynb\" target=\"_parent\"><img src=\"https://colab.research.google.com/assets/colab-badge.svg\" alt=\"Open In Colab\"/></a>"
      ]
    },
    {
      "cell_type": "markdown",
      "metadata": {
        "id": "PLbYjsUIhZ3d"
      },
      "source": [
        "# Sequence processing with convnets\n",
        "\n",
        "- Chapter 6, Section 4 of [Deep Learning with Python, v2](https://www.manning.com/books/deep-learning-with-python?a_aid=keras&a_bid=76564dff)."
      ]
    },
    {
      "cell_type": "markdown",
      "source": [
        "Human Activity Recognition, or HAR for short, is the problem of predicting what a person is doing based on a trace of their movement using sensors.\n",
        "\n",
        "A standard human activity recognition dataset is the ‘Activity Recognition Using Smart Phones Dataset’ made available in 2012 https://archive.ics.uci.edu/ml/datasets/human+activity+recognition+using+smartphones."
      ],
      "metadata": {
        "id": "H7w603YTU1uS"
      }
    },
    {
      "cell_type": "code",
      "source": [
        "!wget \"https://archive.ics.uci.edu/ml/machine-learning-databases/00240/UCI HAR Dataset.zip\"\n",
        "!unzip 'UCI HAR Dataset.zip'"
      ],
      "metadata": {
        "colab": {
          "base_uri": "https://localhost:8080/"
        },
        "id": "a2KYuaj_VA9v",
        "outputId": "292630b6-532e-4595-bbcf-143c01a8249b"
      },
      "execution_count": null,
      "outputs": [
        {
          "output_type": "stream",
          "name": "stdout",
          "text": [
            "--2022-11-24 23:42:50--  https://archive.ics.uci.edu/ml/machine-learning-databases/00240/UCI%20HAR%20Dataset.zip\n",
            "Resolving archive.ics.uci.edu (archive.ics.uci.edu)... 128.195.10.252\n",
            "Connecting to archive.ics.uci.edu (archive.ics.uci.edu)|128.195.10.252|:443... connected.\n",
            "HTTP request sent, awaiting response... 200 OK\n",
            "Length: 60999314 (58M) [application/x-httpd-php]\n",
            "Saving to: ‘UCI HAR Dataset.zip’\n",
            "\n",
            "UCI HAR Dataset.zip 100%[===================>]  58.17M  32.3MB/s    in 1.8s    \n",
            "\n",
            "2022-11-24 23:42:52 (32.3 MB/s) - ‘UCI HAR Dataset.zip’ saved [60999314/60999314]\n",
            "\n",
            "Archive:  UCI HAR Dataset.zip\n",
            "   creating: UCI HAR Dataset/\n",
            "  inflating: UCI HAR Dataset/.DS_Store  \n",
            "   creating: __MACOSX/\n",
            "   creating: __MACOSX/UCI HAR Dataset/\n",
            "  inflating: __MACOSX/UCI HAR Dataset/._.DS_Store  \n",
            "  inflating: UCI HAR Dataset/activity_labels.txt  \n",
            "  inflating: __MACOSX/UCI HAR Dataset/._activity_labels.txt  \n",
            "  inflating: UCI HAR Dataset/features.txt  \n",
            "  inflating: __MACOSX/UCI HAR Dataset/._features.txt  \n",
            "  inflating: UCI HAR Dataset/features_info.txt  \n",
            "  inflating: __MACOSX/UCI HAR Dataset/._features_info.txt  \n",
            "  inflating: UCI HAR Dataset/README.txt  \n",
            "  inflating: __MACOSX/UCI HAR Dataset/._README.txt  \n",
            "   creating: UCI HAR Dataset/test/\n",
            "   creating: UCI HAR Dataset/test/Inertial Signals/\n",
            "  inflating: UCI HAR Dataset/test/Inertial Signals/body_acc_x_test.txt  \n",
            "   creating: __MACOSX/UCI HAR Dataset/test/\n",
            "   creating: __MACOSX/UCI HAR Dataset/test/Inertial Signals/\n",
            "  inflating: __MACOSX/UCI HAR Dataset/test/Inertial Signals/._body_acc_x_test.txt  \n",
            "  inflating: UCI HAR Dataset/test/Inertial Signals/body_acc_y_test.txt  \n",
            "  inflating: __MACOSX/UCI HAR Dataset/test/Inertial Signals/._body_acc_y_test.txt  \n",
            "  inflating: UCI HAR Dataset/test/Inertial Signals/body_acc_z_test.txt  \n",
            "  inflating: __MACOSX/UCI HAR Dataset/test/Inertial Signals/._body_acc_z_test.txt  \n",
            "  inflating: UCI HAR Dataset/test/Inertial Signals/body_gyro_x_test.txt  \n",
            "  inflating: __MACOSX/UCI HAR Dataset/test/Inertial Signals/._body_gyro_x_test.txt  \n",
            "  inflating: UCI HAR Dataset/test/Inertial Signals/body_gyro_y_test.txt  \n",
            "  inflating: __MACOSX/UCI HAR Dataset/test/Inertial Signals/._body_gyro_y_test.txt  \n",
            "  inflating: UCI HAR Dataset/test/Inertial Signals/body_gyro_z_test.txt  \n",
            "  inflating: __MACOSX/UCI HAR Dataset/test/Inertial Signals/._body_gyro_z_test.txt  \n",
            "  inflating: UCI HAR Dataset/test/Inertial Signals/total_acc_x_test.txt  \n",
            "  inflating: __MACOSX/UCI HAR Dataset/test/Inertial Signals/._total_acc_x_test.txt  \n",
            "  inflating: UCI HAR Dataset/test/Inertial Signals/total_acc_y_test.txt  \n",
            "  inflating: __MACOSX/UCI HAR Dataset/test/Inertial Signals/._total_acc_y_test.txt  \n",
            "  inflating: UCI HAR Dataset/test/Inertial Signals/total_acc_z_test.txt  \n",
            "  inflating: __MACOSX/UCI HAR Dataset/test/Inertial Signals/._total_acc_z_test.txt  \n",
            "  inflating: __MACOSX/UCI HAR Dataset/test/._Inertial Signals  \n",
            "  inflating: UCI HAR Dataset/test/subject_test.txt  \n",
            "  inflating: __MACOSX/UCI HAR Dataset/test/._subject_test.txt  \n",
            "  inflating: UCI HAR Dataset/test/X_test.txt  \n",
            "  inflating: __MACOSX/UCI HAR Dataset/test/._X_test.txt  \n",
            "  inflating: UCI HAR Dataset/test/y_test.txt  \n",
            "  inflating: __MACOSX/UCI HAR Dataset/test/._y_test.txt  \n",
            "  inflating: __MACOSX/UCI HAR Dataset/._test  \n",
            "   creating: UCI HAR Dataset/train/\n",
            "   creating: UCI HAR Dataset/train/Inertial Signals/\n",
            "  inflating: UCI HAR Dataset/train/Inertial Signals/body_acc_x_train.txt  \n",
            "   creating: __MACOSX/UCI HAR Dataset/train/\n",
            "   creating: __MACOSX/UCI HAR Dataset/train/Inertial Signals/\n",
            "  inflating: __MACOSX/UCI HAR Dataset/train/Inertial Signals/._body_acc_x_train.txt  \n",
            "  inflating: UCI HAR Dataset/train/Inertial Signals/body_acc_y_train.txt  \n",
            "  inflating: __MACOSX/UCI HAR Dataset/train/Inertial Signals/._body_acc_y_train.txt  \n",
            "  inflating: UCI HAR Dataset/train/Inertial Signals/body_acc_z_train.txt  \n",
            "  inflating: __MACOSX/UCI HAR Dataset/train/Inertial Signals/._body_acc_z_train.txt  \n",
            "  inflating: UCI HAR Dataset/train/Inertial Signals/body_gyro_x_train.txt  \n",
            "  inflating: __MACOSX/UCI HAR Dataset/train/Inertial Signals/._body_gyro_x_train.txt  \n",
            "  inflating: UCI HAR Dataset/train/Inertial Signals/body_gyro_y_train.txt  \n",
            "  inflating: __MACOSX/UCI HAR Dataset/train/Inertial Signals/._body_gyro_y_train.txt  \n",
            "  inflating: UCI HAR Dataset/train/Inertial Signals/body_gyro_z_train.txt  \n",
            "  inflating: __MACOSX/UCI HAR Dataset/train/Inertial Signals/._body_gyro_z_train.txt  \n",
            "  inflating: UCI HAR Dataset/train/Inertial Signals/total_acc_x_train.txt  \n",
            "  inflating: __MACOSX/UCI HAR Dataset/train/Inertial Signals/._total_acc_x_train.txt  \n",
            "  inflating: UCI HAR Dataset/train/Inertial Signals/total_acc_y_train.txt  \n",
            "  inflating: __MACOSX/UCI HAR Dataset/train/Inertial Signals/._total_acc_y_train.txt  \n",
            "  inflating: UCI HAR Dataset/train/Inertial Signals/total_acc_z_train.txt  \n",
            "  inflating: __MACOSX/UCI HAR Dataset/train/Inertial Signals/._total_acc_z_train.txt  \n",
            "  inflating: __MACOSX/UCI HAR Dataset/train/._Inertial Signals  \n",
            "  inflating: UCI HAR Dataset/train/subject_train.txt  \n",
            "  inflating: __MACOSX/UCI HAR Dataset/train/._subject_train.txt  \n",
            "  inflating: UCI HAR Dataset/train/X_train.txt  \n",
            "  inflating: __MACOSX/UCI HAR Dataset/train/._X_train.txt  \n",
            "  inflating: UCI HAR Dataset/train/y_train.txt  \n",
            "  inflating: __MACOSX/UCI HAR Dataset/train/._y_train.txt  \n",
            "  inflating: __MACOSX/UCI HAR Dataset/._train  \n",
            "  inflating: __MACOSX/._UCI HAR Dataset  \n"
          ]
        }
      ]
    },
    {
      "cell_type": "code",
      "source": [
        "import os\n",
        "import numpy as np\n",
        "import pandas as pd\n",
        "import matplotlib.pyplot as plt\n",
        "from sklearn.preprocessing import StandardScaler\n",
        "\n",
        "import tensorflow as tf\n",
        "from keras.models import Model, Sequential\n",
        "from keras.layers import Input, Dense, Flatten, Dropout, Conv1D, MaxPooling1D, GlobalAveragePooling1D, LSTM\n",
        "from keras.utils import to_categorical"
      ],
      "metadata": {
        "id": "ccIYrjwzNI0m"
      },
      "execution_count": null,
      "outputs": []
    },
    {
      "cell_type": "markdown",
      "source": [
        "## Load Data ##\n",
        "The first step is to load the raw dataset into memory.\n",
        "\n",
        "There are three main signal types in the raw data: total acceleration, body acceleration, and body gyroscope. Each has three axes of data. This means that there are a total of nine variables for each time step.\n",
        "\n",
        "Further, each series of data has been partitioned into overlapping windows of 2.65 seconds of data, or 128 time steps.\n",
        "This means that one row of data has (128 * 9), or 1,152, elements.\n",
        "\n",
        "The signals are stored in the /Inertial Signals/ directory under the train and test subdirectories. Each axis of each signal is stored in a separate file, meaning that each of the train and test datasets have nine input files to load and one output file to load. We can batch the loading of these files into groups given the consistent directory structures and file naming conventions.\n",
        "\n",
        "The input data is in CSV format where columns are separated by whitespace. Each of these files can be loaded as a NumPy array. The load_file() function below loads a dataset given the file path to the file and returns the loaded data as a NumPy array."
      ],
      "metadata": {
        "id": "kPW_wVtzsc9u"
      }
    },
    {
      "cell_type": "code",
      "source": [
        "def load_file(filepath):\n",
        "\tdataframe = pd.read_csv(filepath, header=None, delim_whitespace=True)\n",
        "\treturn dataframe.values"
      ],
      "metadata": {
        "id": "u5wOa5wate13"
      },
      "execution_count": null,
      "outputs": []
    },
    {
      "cell_type": "markdown",
      "source": [
        "We can then load all data for a given group (train or test) into a single three-dimensional NumPy array, where the dimensions of the array are **[samples, time steps, features]**.\n",
        "\n",
        "To make this clearer, there are 128 time steps and nine features, where the number of samples is the number of rows in any given raw signal data file.\n",
        "\n",
        "The *load_group()* function below implements this behavior. The *dstack()* NumPy function allows us to stack each of the loaded 3D arrays into a single 3D array where the variables are separated on the third dimension (features)."
      ],
      "metadata": {
        "id": "v4X4ekI0tmvv"
      }
    },
    {
      "cell_type": "code",
      "source": [
        "# load a list of files into a 3D array of [samples, timesteps, features]\n",
        "def load_group(filenames, prefix=''):\n",
        "\tloaded = list()\n",
        "\tfor name in filenames:\n",
        "\t\tdata = load_file(prefix + name)\n",
        "\t\tloaded.append(data)\n",
        "\t# stack group so that features are the 3rd dimension\n",
        "\tloaded = np.dstack(loaded)\n",
        "\treturn loaded"
      ],
      "metadata": {
        "id": "g7yfeFCoDFbb"
      },
      "execution_count": null,
      "outputs": []
    },
    {
      "cell_type": "markdown",
      "source": [
        "The *load_dataset_group()* function below loads all input signal data and the output data for a single group using the consistent naming conventions between the train and test directories."
      ],
      "metadata": {
        "id": "lx6QAPcdDKAr"
      }
    },
    {
      "cell_type": "code",
      "source": [
        "# load a dataset group, such as train or test\n",
        "def load_dataset_group(group, prefix=''):\n",
        "\tfilepath = prefix + group + '/Inertial Signals/'\n",
        "\t# load all 9 files as a single array\n",
        "\tfilenames = list()\n",
        "\t# total acceleration\n",
        "\tfilenames += ['total_acc_x_'+group+'.txt', 'total_acc_y_'+group+'.txt', 'total_acc_z_'+group+'.txt']\n",
        "\t# body acceleration\n",
        "\tfilenames += ['body_acc_x_'+group+'.txt', 'body_acc_y_'+group+'.txt', 'body_acc_z_'+group+'.txt']\n",
        "\t# body gyroscope\n",
        "\tfilenames += ['body_gyro_x_'+group+'.txt', 'body_gyro_y_'+group+'.txt', 'body_gyro_z_'+group+'.txt']\n",
        "\t# load input data\n",
        "\tX = load_group(filenames, filepath)\n",
        "\t# load class output\n",
        "\ty = load_file(prefix + group + '/y_'+group+'.txt')\n",
        "\treturn X, y"
      ],
      "metadata": {
        "id": "oY_mVmjLDgrE"
      },
      "execution_count": null,
      "outputs": []
    },
    {
      "cell_type": "markdown",
      "source": [
        "Finally, we can load each of the train and test datasets.\n",
        "\n",
        "The output data is defined as an integer for the class number. We must one hot encode these class integers so that the data is suitable for fitting a neural network multi-class classification model. We can do this by calling the *to_categorical()* Keras function.\n",
        "\n",
        "The load_dataset() returns the train and test X and y elements ready for fitting and evaluating the defined models."
      ],
      "metadata": {
        "id": "90UXT3kYDy97"
      }
    },
    {
      "cell_type": "code",
      "source": [
        "# load the dataset, returns train and test X and y elements\n",
        "def load_dataset(prefix=''):\n",
        "\t# load all train\n",
        "\ttrainX, trainy = load_dataset_group('train', prefix + 'UCI HAR Dataset/')\n",
        "\t# load all test\n",
        "\ttestX, testy = load_dataset_group('test', prefix + 'UCI HAR Dataset/')\n",
        "\tprint(testX.shape, testy.shape)\n",
        "\t# zero-offset class values\n",
        "\ttrainy = trainy - 1\n",
        "\ttesty = testy - 1\n",
        "\t# one hot encode y\n",
        "\ttrainy = to_categorical(trainy)\n",
        "\ttesty = to_categorical(testy)\n",
        "\treturn trainX, trainy, testX, testy"
      ],
      "metadata": {
        "id": "arT-hx6VD4Wb"
      },
      "execution_count": null,
      "outputs": []
    },
    {
      "cell_type": "code",
      "source": [
        "trainX, trainy, testX, testy = load_dataset()\n",
        "print(trainX.shape, trainy.shape, testX.shape, testy.shape)\n",
        "n_timesteps, n_features, n_outputs = trainX.shape[1], trainX.shape[2], trainy.shape[1]"
      ],
      "metadata": {
        "colab": {
          "base_uri": "https://localhost:8080/"
        },
        "id": "3czyCeDgPRGH",
        "outputId": "eff88b7b-23f7-4f2b-d46e-5b0defc610a0"
      },
      "execution_count": null,
      "outputs": [
        {
          "output_type": "stream",
          "name": "stdout",
          "text": [
            "(2947, 128, 9) (2947, 1)\n",
            "(7352, 128, 9) (7352, 6) (2947, 128, 9) (2947, 6)\n"
          ]
        }
      ]
    },
    {
      "cell_type": "markdown",
      "source": [
        "## Implementing a 1D convnet\n",
        "\n",
        "Neural networks for Computer Vision typically exploit **2D convolutional layers**.\n",
        "\n",
        "In sequence analysis, instead, the building block is the [**1D convolutional layer**](https://www.tensorflow.org/api_docs/python/tf/keras/layers/Conv1D):\n",
        "\n",
        "\n",
        "*   As in Conv2D, we need to specify the number of filters\n",
        "*   As in Conv2D, we need to specify the filter size but\n",
        "  *   in Conv2D we specify two integers (or just one for squared kernels)\n",
        "  *   in Conv1D we specify a single integer and the kernel is convolved with the layer input over a single spatial (or temporal) dimension to produce a tensor of outputs\n",
        "\n",
        "1D convnets are structured in the same way as their 2D counter-parts: they consist of a stack of `Conv1D` \n",
        "and `MaxPooling1D` layers, eventually ending in either a global pooling layer or a `Flatten` layer, turning the 3D outputs into 2D outputs, \n",
        "allowing to add one or more `Dense` layers to the model, for classification or regression.\n",
        "\n",
        "One difference, though, is the fact that we can afford to use larger convolution windows with 1D convnets. Indeed, with a 2D convolution \n",
        "layer, a 3x3 convolution window contains 3*3 = 9 feature vectors, but with a 1D convolution layer, a convolution window of size 3 would \n",
        "only contain 3 feature vectors. We can thus easily afford 1D convolution windows of size 7 or 9.\n",
        "\n",
        "In Keras, you would use a 1D convnet via the `Conv1D` layer, which has a very similar interface to `Conv2D`. It takes as input 3D tensors \n",
        "with shape `(samples, time, features)` and also returns similarly-shaped 3D tensors. The convolution window is a 1D window on the temporal \n",
        "axis, axis 1 in the input tensor.\n",
        "\n",
        "Let's define the model as having two 1D CNN layers, followed by a dropout layer for regularization, then a pooling layer. It is common to define CNN layers in groups of two in order to give the model a good chance of learning features from the input data. CNNs learn very quickly, so the dropout layer is intended to help slow down the learning process and hopefully result in a better final model. The pooling layer reduces the learned features to 1/4 their size, consolidating them to only the most essential elements."
      ],
      "metadata": {
        "id": "xwxHW4usVQrc"
      }
    },
    {
      "cell_type": "code",
      "source": [
        "model = Sequential()\n",
        "model.add(Conv1D(filters=64, kernel_size=3, activation='relu', input_shape=(n_timesteps,n_features)))\n",
        "model.add(Conv1D(filters=64, kernel_size=3, activation='relu'))\n",
        "model.add(Dropout(0.5))\n",
        "model.add(MaxPooling1D(pool_size=2))\n",
        "model.add(Flatten())\n",
        "model.add(Dense(100, activation='relu'))\n",
        "model.add(Dense(n_outputs, activation='softmax'))\n",
        "\n",
        "model.compile(loss='categorical_crossentropy', optimizer='adam', metrics=['accuracy'])"
      ],
      "metadata": {
        "id": "RGiCbJJ5EdaD"
      },
      "execution_count": null,
      "outputs": []
    },
    {
      "cell_type": "markdown",
      "source": [
        "We cannot judge the skill of the model from a single evaluation.\n",
        "\n",
        "The reason for this is that neural networks are stochastic, meaning that a different specific model will result when training the same model configuration on the same data.\n",
        "\n",
        "We will repeat the evaluation of the model multiple times, then summarize the performance of the model across each of those runs. For example, we can evaluate the model a total of 10 times. This will result in a population of model evaluation scores that must be summarized."
      ],
      "metadata": {
        "id": "LegUD5mdIj_E"
      }
    },
    {
      "cell_type": "code",
      "source": [
        "epochs, batch_size = 10, 32\n",
        "\n",
        "# repeat experiment\n",
        "repeats = 3\n",
        "scores = list()\n",
        "for r in range(repeats):\n",
        "    # fit network\n",
        "    model.fit(trainX, trainy, epochs=epochs, batch_size=batch_size)\n",
        "    # evaluate model\n",
        "    _, accuracy = model.evaluate(testX, testy, batch_size=batch_size, verbose=0)\n",
        "    accuracy = accuracy * 100.0\n",
        "    print('>#%d: %.3f' % (r+1, accuracy))\n",
        "    scores.append(accuracy)\n",
        "\n",
        "# summarize results\n",
        "print(scores)\n",
        "m, s = np.mean(scores), np.std(scores)\n",
        "print('Accuracy: %.3f%% (+/-%.3f)' % (m, s))"
      ],
      "metadata": {
        "colab": {
          "base_uri": "https://localhost:8080/"
        },
        "id": "jBhZ37vLIklk",
        "outputId": "07e73727-6d8f-4070-e311-ba41f8fd82cc"
      },
      "execution_count": null,
      "outputs": [
        {
          "output_type": "stream",
          "name": "stdout",
          "text": [
            "Epoch 1/10\n",
            "230/230 [==============================] - 14s 54ms/step - loss: 0.3779 - accuracy: 0.8496\n",
            "Epoch 2/10\n",
            "230/230 [==============================] - 7s 31ms/step - loss: 0.1330 - accuracy: 0.9444\n",
            "Epoch 3/10\n",
            "230/230 [==============================] - 6s 25ms/step - loss: 0.1186 - accuracy: 0.9491\n",
            "Epoch 4/10\n",
            "230/230 [==============================] - 6s 25ms/step - loss: 0.1318 - accuracy: 0.9490\n",
            "Epoch 5/10\n",
            "230/230 [==============================] - 6s 25ms/step - loss: 0.1044 - accuracy: 0.9561\n",
            "Epoch 6/10\n",
            "230/230 [==============================] - 6s 25ms/step - loss: 0.0979 - accuracy: 0.9573\n",
            "Epoch 7/10\n",
            "230/230 [==============================] - 6s 25ms/step - loss: 0.1031 - accuracy: 0.9543\n",
            "Epoch 8/10\n",
            "230/230 [==============================] - 7s 30ms/step - loss: 0.1017 - accuracy: 0.9539\n",
            "Epoch 9/10\n",
            "230/230 [==============================] - 8s 36ms/step - loss: 0.0862 - accuracy: 0.9610\n",
            "Epoch 10/10\n",
            "230/230 [==============================] - 6s 25ms/step - loss: 0.0904 - accuracy: 0.9589\n",
            ">#1: 92.229\n",
            "Epoch 1/10\n",
            "230/230 [==============================] - 6s 25ms/step - loss: 0.0869 - accuracy: 0.9629\n",
            "Epoch 2/10\n",
            "230/230 [==============================] - 6s 25ms/step - loss: 0.0779 - accuracy: 0.9652\n",
            "Epoch 3/10\n",
            "230/230 [==============================] - 6s 25ms/step - loss: 0.0761 - accuracy: 0.9652\n",
            "Epoch 4/10\n",
            "230/230 [==============================] - 6s 25ms/step - loss: 0.0664 - accuracy: 0.9686\n",
            "Epoch 5/10\n",
            "230/230 [==============================] - 6s 27ms/step - loss: 0.0669 - accuracy: 0.9691\n",
            "Epoch 6/10\n",
            "230/230 [==============================] - 6s 25ms/step - loss: 0.0555 - accuracy: 0.9748\n",
            "Epoch 7/10\n",
            "230/230 [==============================] - 6s 25ms/step - loss: 0.0535 - accuracy: 0.9759\n",
            "Epoch 8/10\n",
            "230/230 [==============================] - 6s 25ms/step - loss: 0.0505 - accuracy: 0.9769\n",
            "Epoch 9/10\n",
            "230/230 [==============================] - 6s 25ms/step - loss: 0.0490 - accuracy: 0.9769\n",
            "Epoch 10/10\n",
            "230/230 [==============================] - 6s 25ms/step - loss: 0.0557 - accuracy: 0.9763\n",
            ">#2: 91.585\n",
            "Epoch 1/10\n",
            "230/230 [==============================] - 6s 25ms/step - loss: 0.0757 - accuracy: 0.9744\n",
            "Epoch 2/10\n",
            "230/230 [==============================] - 6s 25ms/step - loss: 0.0449 - accuracy: 0.9807\n",
            "Epoch 3/10\n",
            "230/230 [==============================] - 6s 25ms/step - loss: 0.0442 - accuracy: 0.9795\n",
            "Epoch 4/10\n",
            "230/230 [==============================] - 6s 25ms/step - loss: 0.0423 - accuracy: 0.9805\n",
            "Epoch 5/10\n",
            "230/230 [==============================] - 6s 25ms/step - loss: 0.0492 - accuracy: 0.9777\n",
            "Epoch 6/10\n",
            "230/230 [==============================] - 6s 25ms/step - loss: 0.0413 - accuracy: 0.9820\n",
            "Epoch 7/10\n",
            "230/230 [==============================] - 6s 25ms/step - loss: 0.0405 - accuracy: 0.9834\n",
            "Epoch 8/10\n",
            "230/230 [==============================] - 6s 25ms/step - loss: 0.0401 - accuracy: 0.9829\n",
            "Epoch 9/10\n",
            "230/230 [==============================] - 8s 35ms/step - loss: 0.0598 - accuracy: 0.9769\n",
            "Epoch 10/10\n",
            "230/230 [==============================] - 6s 26ms/step - loss: 0.0351 - accuracy: 0.9844\n",
            ">#3: 92.128\n",
            "[92.22938418388367, 91.58466458320618, 92.12758541107178]\n",
            "Accuracy: 91.981% (+/-0.283)\n"
          ]
        }
      ]
    },
    {
      "cell_type": "markdown",
      "source": [
        "##Tuning the 1D convnet##\n",
        "\n",
        "Data Preparation\n",
        "\n",
        "In the previous section, we did not perform any data preparation. We used the data as-is.\n",
        "\n",
        "One possible transformation that may result in an improvement is to standardize the observations prior to fitting a model.\n",
        "\n",
        "Standardization refers to shifting the distribution of each variable such that it has a mean of zero and a standard deviation of 1. It realy only makes sense if the distribution of each variable is Gaussian.\n",
        "\n",
        "We can quickly check the distribution of each variable by plotting a histogram of each variable in the training dataset.\n",
        "\n",
        "A minor difficulty in this is that the data has been split into windows of 128 time steps, with a 50% overlap. Therefore, in order to get a fair idea of the data distribution, we must first remove the duplicated observations (the overlap), then remove the windowing of the data.\n",
        "\n",
        "We can do this using NumPy, first slicing the array and only keeping the second half of each window, then flattening the windows into a long vector for each variable. This is quick but we lose the data in the first half of the first window."
      ],
      "metadata": {
        "id": "1Vh6ikcWJshF"
      }
    },
    {
      "cell_type": "code",
      "source": [
        "# plot a histogram of each variable in the dataset\n",
        "def plot_variable_distributions(trainX):\n",
        "\t# remove overlap\n",
        "\tcut = int(trainX.shape[1] / 2)\n",
        "\tlongX = trainX[:, -cut:, :]\n",
        "\t# flatten windows\n",
        "\tlongX = longX.reshape((longX.shape[0] * longX.shape[1], longX.shape[2]))\n",
        "\tplt.figure()\n",
        "\txaxis = None\n",
        "\tfor i in range(longX.shape[1]):\n",
        "\t\tax = plt.subplot(longX.shape[1], 1, i+1, sharex=xaxis)\n",
        "\t\tax.set_xlim(-1, 1)\n",
        "\t\tif i == 0:\n",
        "\t\t\txaxis = ax\n",
        "\t\tplt.hist(longX[:, i], bins=100)\n",
        "\tplt.show()\n",
        "\n",
        "# plot histograms\n",
        "plot_variable_distributions(trainX)"
      ],
      "metadata": {
        "colab": {
          "base_uri": "https://localhost:8080/",
          "height": 265
        },
        "id": "5psR4eA7KS0_",
        "outputId": "a6ff9f33-ee44-4fec-d976-bd3328a19b8d"
      },
      "execution_count": null,
      "outputs": [
        {
          "output_type": "display_data",
          "data": {
            "text/plain": [
              "<Figure size 432x288 with 9 Axes>"
            ],
            "image/png": "[encoded data removed]"
          },
          "metadata": {
            "needs_background": "light"
          }
        }
      ]
    },
    {
      "cell_type": "markdown",
      "source": [
        "The data is sufficiently Gaussian-like to explore whether a standardization transform will help the model extract salient signal from the raw observations.\n",
        "\n",
        "The function below named *scale_data()* can be used to standardize the data prior to fitting and evaluating the model. The StandardScaler scikit-learn class will be used to perform the transform. It is first fit on the training data (e.g. to find the mean and standard deviation for each variable), then applied to the train and test sets.\n",
        "\n",
        "The standardization is optional, so we can apply the process and compare the results to the same code path without the standardization in a controlled experiment."
      ],
      "metadata": {
        "id": "fpQ5KJSbKpKt"
      }
    },
    {
      "cell_type": "code",
      "source": [
        "# standardize data\n",
        "def scale_data(trainX, testX):\n",
        "    # remove overlap\n",
        "    cut = int(trainX.shape[1] / 2)\n",
        "    longX = trainX[:, -cut:, :]\n",
        "    # flatten windows\n",
        "    longX = longX.reshape((longX.shape[0] * longX.shape[1], longX.shape[2]))\n",
        "    # flatten train and test\n",
        "    flatTrainX = trainX.reshape((trainX.shape[0] * trainX.shape[1], trainX.shape[2]))\n",
        "    flatTestX = testX.reshape((testX.shape[0] * testX.shape[1], testX.shape[2]))\n",
        "    # standardize\n",
        "    s = StandardScaler()\n",
        "    # fit on training data\n",
        "    s.fit(longX)\n",
        "    # apply to training and test data\n",
        "    longX = s.transform(longX)\n",
        "    flatTrainX = s.transform(flatTrainX)\n",
        "    flatTestX = s.transform(flatTestX)\n",
        "    # reshape\n",
        "    flatTrainX = flatTrainX.reshape((trainX.shape))\n",
        "    flatTestX = flatTestX.reshape((testX.shape))\n",
        "    return flatTrainX, flatTestX"
      ],
      "metadata": {
        "id": "Y7sffk_RKvd-"
      },
      "execution_count": null,
      "outputs": []
    },
    {
      "cell_type": "markdown",
      "source": [
        "We can now compare the results of a model fit as before and a model fit on the dataset after it has been standardized."
      ],
      "metadata": {
        "id": "wBiEYFORKwqt"
      }
    },
    {
      "cell_type": "code",
      "source": [
        "def build_model():\n",
        "    model = Sequential()\n",
        "    model.add(Conv1D(filters=64, kernel_size=3, activation='relu', input_shape=(n_timesteps,n_features)))\n",
        "    model.add(Conv1D(filters=64, kernel_size=3, activation='relu'))\n",
        "    model.add(Dropout(0.5))\n",
        "    model.add(MaxPooling1D(pool_size=2))\n",
        "    model.add(Flatten())\n",
        "    model.add(Dense(100, activation='relu'))\n",
        "    model.add(Dense(n_outputs, activation='softmax'))\n",
        "\n",
        "    model.compile(loss='categorical_crossentropy', optimizer='adam', metrics=['accuracy'])\n",
        "    return model\n",
        "\n",
        "# repeat experiment\n",
        "all_scores = list()\n",
        "\n",
        "scores = list()\n",
        "for r in range(3):\n",
        "    # fit network\n",
        "    model.fit(trainX, trainy, epochs=epochs, batch_size=batch_size)\n",
        "    # evaluate model\n",
        "    _, accuracy = model.evaluate(testX, testy, batch_size=batch_size, verbose=0)\n",
        "    accuracy = accuracy * 100.0\n",
        "    print('>#%d: %.3f' % (r+1, accuracy))\n",
        "    scores.append(accuracy)\n",
        "all_scores.append(scores)\n",
        "\n",
        "\n",
        "scores = list()\n",
        "for r in range(repeats):\n",
        "    # scale data\n",
        "    X_tr, X_te = scale_data(trainX, testX)\n",
        "    # fit network\n",
        "    model.fit(X_tr, trainy, epochs=epochs, batch_size=batch_size)\n",
        "    # evaluate model\n",
        "    _, accuracy = model.evaluate(X_te, testy, batch_size=batch_size, verbose=0)\n",
        "    accuracy = accuracy * 100.0\n",
        "    print('>#%d: %.3f' % (r+1, accuracy))\n",
        "    scores.append(accuracy)\n",
        "all_scores.append(scores)\n",
        "\n",
        "params = [False, True]\n",
        "# summarize mean and standard deviation\n",
        "for i in range(len(all_scores)):\n",
        "    m, s = np.mean(all_scores[i]), np.std(all_scores[i])\n",
        "    print('Param=%s: %.3f%% (+/-%.3f)' % (params[i], m, s))\n",
        "# boxplot of scores\n",
        "plt.boxplot(all_scores, labels=[False, True])"
      ],
      "metadata": {
        "colab": {
          "base_uri": "https://localhost:8080/",
          "height": 1000
        },
        "id": "c_GOxUFFLtUu",
        "outputId": "3012253b-7cd4-4b49-bafa-ab9cf97a715a"
      },
      "execution_count": null,
      "outputs": [
        {
          "output_type": "stream",
          "name": "stdout",
          "text": [
            "Epoch 1/10\n",
            "230/230 [==============================] - 6s 26ms/step - loss: 0.0378 - accuracy: 0.9846\n",
            "Epoch 2/10\n",
            "230/230 [==============================] - 6s 28ms/step - loss: 0.0321 - accuracy: 0.9868\n",
            "Epoch 3/10\n",
            "230/230 [==============================] - 6s 25ms/step - loss: 0.0310 - accuracy: 0.9874\n",
            "Epoch 4/10\n",
            "230/230 [==============================] - 6s 28ms/step - loss: 0.0393 - accuracy: 0.9835\n",
            "Epoch 5/10\n",
            "230/230 [==============================] - 6s 25ms/step - loss: 0.0294 - accuracy: 0.9888\n",
            "Epoch 6/10\n",
            "230/230 [==============================] - 6s 26ms/step - loss: 0.0345 - accuracy: 0.9857\n",
            "Epoch 7/10\n",
            "230/230 [==============================] - 6s 25ms/step - loss: 0.0344 - accuracy: 0.9861\n",
            "Epoch 8/10\n",
            "230/230 [==============================] - 6s 26ms/step - loss: 0.0318 - accuracy: 0.9867\n",
            "Epoch 9/10\n",
            "230/230 [==============================] - 6s 25ms/step - loss: 0.0296 - accuracy: 0.9867\n",
            "Epoch 10/10\n",
            "230/230 [==============================] - 6s 26ms/step - loss: 0.0296 - accuracy: 0.9897\n",
            ">#1: 91.924\n",
            "Epoch 1/10\n",
            "230/230 [==============================] - 6s 27ms/step - loss: 0.0261 - accuracy: 0.9886\n",
            "Epoch 2/10\n",
            "230/230 [==============================] - 6s 27ms/step - loss: 0.0244 - accuracy: 0.9912\n",
            "Epoch 3/10\n",
            "230/230 [==============================] - 6s 27ms/step - loss: 0.0218 - accuracy: 0.9909\n",
            "Epoch 4/10\n",
            "230/230 [==============================] - 6s 27ms/step - loss: 0.0261 - accuracy: 0.9905\n",
            "Epoch 5/10\n",
            "230/230 [==============================] - 6s 26ms/step - loss: 0.0220 - accuracy: 0.9898\n",
            "Epoch 6/10\n",
            "230/230 [==============================] - 6s 26ms/step - loss: 0.0230 - accuracy: 0.9886\n",
            "Epoch 7/10\n",
            "230/230 [==============================] - 6s 26ms/step - loss: 0.0243 - accuracy: 0.9909\n",
            "Epoch 8/10\n",
            "230/230 [==============================] - 6s 26ms/step - loss: 0.0166 - accuracy: 0.9936\n",
            "Epoch 9/10\n",
            "230/230 [==============================] - 6s 27ms/step - loss: 0.0230 - accuracy: 0.9914\n",
            "Epoch 10/10\n",
            "230/230 [==============================] - 6s 26ms/step - loss: 0.0352 - accuracy: 0.9882\n",
            ">#2: 92.026\n",
            "Epoch 1/10\n",
            "230/230 [==============================] - 6s 25ms/step - loss: 0.0334 - accuracy: 0.9878\n",
            "Epoch 2/10\n",
            "230/230 [==============================] - 6s 25ms/step - loss: 0.0205 - accuracy: 0.9918\n",
            "Epoch 3/10\n",
            "230/230 [==============================] - 6s 25ms/step - loss: 0.0214 - accuracy: 0.9929\n",
            "Epoch 4/10\n",
            "230/230 [==============================] - 8s 36ms/step - loss: 0.0168 - accuracy: 0.9939\n",
            "Epoch 5/10\n",
            "230/230 [==============================] - 6s 25ms/step - loss: 0.0174 - accuracy: 0.9927\n",
            "Epoch 6/10\n",
            "230/230 [==============================] - 6s 25ms/step - loss: 0.0153 - accuracy: 0.9940\n",
            "Epoch 7/10\n",
            "230/230 [==============================] - 6s 25ms/step - loss: 0.0166 - accuracy: 0.9937\n",
            "Epoch 8/10\n",
            "230/230 [==============================] - 6s 25ms/step - loss: 0.0133 - accuracy: 0.9944\n",
            "Epoch 9/10\n",
            "230/230 [==============================] - 7s 30ms/step - loss: 0.0077 - accuracy: 0.9973\n",
            "Epoch 10/10\n",
            "230/230 [==============================] - 7s 29ms/step - loss: 0.0446 - accuracy: 0.9890\n",
            ">#3: 91.415\n",
            "Epoch 1/10\n",
            "230/230 [==============================] - 6s 25ms/step - loss: 0.5057 - accuracy: 0.9539\n",
            "Epoch 2/10\n",
            "230/230 [==============================] - 6s 25ms/step - loss: 0.0548 - accuracy: 0.9801\n",
            "Epoch 3/10\n",
            "230/230 [==============================] - 6s 25ms/step - loss: 0.0503 - accuracy: 0.9856\n",
            "Epoch 4/10\n",
            "230/230 [==============================] - 6s 25ms/step - loss: 0.0309 - accuracy: 0.9884\n",
            "Epoch 5/10\n",
            "230/230 [==============================] - 6s 26ms/step - loss: 0.0169 - accuracy: 0.9942\n",
            "Epoch 6/10\n",
            "230/230 [==============================] - 6s 25ms/step - loss: 0.0168 - accuracy: 0.9959\n",
            "Epoch 7/10\n",
            "230/230 [==============================] - 6s 25ms/step - loss: 0.0089 - accuracy: 0.9966\n",
            "Epoch 8/10\n",
            "230/230 [==============================] - 6s 25ms/step - loss: 0.0223 - accuracy: 0.9946\n",
            "Epoch 9/10\n",
            "230/230 [==============================] - 6s 25ms/step - loss: 0.0628 - accuracy: 0.9916\n",
            "Epoch 10/10\n",
            "230/230 [==============================] - 6s 25ms/step - loss: 0.0148 - accuracy: 0.9946\n",
            ">#1: 93.349\n",
            "Epoch 1/10\n",
            "230/230 [==============================] - 6s 26ms/step - loss: 0.0133 - accuracy: 0.9965\n",
            "Epoch 2/10\n",
            "230/230 [==============================] - 6s 26ms/step - loss: 0.0205 - accuracy: 0.9958\n",
            "Epoch 3/10\n",
            "230/230 [==============================] - 6s 25ms/step - loss: 0.0094 - accuracy: 0.9974\n",
            "Epoch 4/10\n",
            "230/230 [==============================] - 6s 25ms/step - loss: 0.0052 - accuracy: 0.9985\n",
            "Epoch 5/10\n",
            "230/230 [==============================] - 6s 25ms/step - loss: 0.0039 - accuracy: 0.9986\n",
            "Epoch 6/10\n",
            "230/230 [==============================] - 6s 25ms/step - loss: 0.0071 - accuracy: 0.9984\n",
            "Epoch 7/10\n",
            "230/230 [==============================] - 6s 25ms/step - loss: 0.0072 - accuracy: 0.9976\n",
            "Epoch 8/10\n",
            "230/230 [==============================] - 6s 25ms/step - loss: 0.0239 - accuracy: 0.9970\n",
            "Epoch 9/10\n",
            "230/230 [==============================] - 6s 25ms/step - loss: 0.0773 - accuracy: 0.9921\n",
            "Epoch 10/10\n",
            "230/230 [==============================] - 6s 26ms/step - loss: 0.0139 - accuracy: 0.9974\n",
            ">#2: 92.162\n",
            "Epoch 1/10\n",
            "230/230 [==============================] - 6s 25ms/step - loss: 0.0041 - accuracy: 0.9985\n",
            "Epoch 2/10\n",
            "230/230 [==============================] - 6s 26ms/step - loss: 0.0051 - accuracy: 0.9988\n",
            "Epoch 3/10\n",
            "230/230 [==============================] - 6s 26ms/step - loss: 0.0375 - accuracy: 0.9939\n",
            "Epoch 4/10\n",
            "230/230 [==============================] - 8s 35ms/step - loss: 0.0200 - accuracy: 0.9961\n",
            "Epoch 5/10\n",
            "230/230 [==============================] - 7s 29ms/step - loss: 0.0037 - accuracy: 0.9990\n",
            "Epoch 6/10\n",
            "230/230 [==============================] - 6s 25ms/step - loss: 0.0034 - accuracy: 0.9986\n",
            "Epoch 7/10\n",
            "230/230 [==============================] - 6s 26ms/step - loss: 0.0127 - accuracy: 0.9980\n",
            "Epoch 8/10\n",
            "230/230 [==============================] - 6s 25ms/step - loss: 0.0171 - accuracy: 0.9958\n",
            "Epoch 9/10\n",
            "230/230 [==============================] - 6s 25ms/step - loss: 0.0034 - accuracy: 0.9989\n",
            "Epoch 10/10\n",
            "230/230 [==============================] - 6s 26ms/step - loss: 0.0042 - accuracy: 0.9984\n",
            ">#3: 93.417\n",
            "Param=False: 91.788% (+/-0.267)\n",
            "Param=True: 92.976% (+/-0.577)\n"
          ]
        },
        {
          "output_type": "execute_result",
          "data": {
            "text/plain": [
              "{'whiskers': [<matplotlib.lines.Line2D at 0x7f6129dd43d0>,\n",
              "  <matplotlib.lines.Line2D at 0x7f61289d1dd0>,\n",
              "  <matplotlib.lines.Line2D at 0x7f61289ddf90>,\n",
              "  <matplotlib.lines.Line2D at 0x7f6128a19190>],\n",
              " 'caps': [<matplotlib.lines.Line2D at 0x7f61289d7350>,\n",
              "  <matplotlib.lines.Line2D at 0x7f61289d7890>,\n",
              "  <matplotlib.lines.Line2D at 0x7f6128a08c90>,\n",
              "  <matplotlib.lines.Line2D at 0x7f6128a08890>],\n",
              " 'boxes': [<matplotlib.lines.Line2D at 0x7f61289d12d0>,\n",
              "  <matplotlib.lines.Line2D at 0x7f61289dd990>],\n",
              " 'medians': [<matplotlib.lines.Line2D at 0x7f61289d7e10>,\n",
              "  <matplotlib.lines.Line2D at 0x7f61289eaf50>],\n",
              " 'fliers': [<matplotlib.lines.Line2D at 0x7f61289dd390>,\n",
              "  <matplotlib.lines.Line2D at 0x7f61289ea950>],\n",
              " 'means': []}"
            ]
          },
          "metadata": {},
          "execution_count": 12
        },
        {
          "output_type": "display_data",
          "data": {
            "text/plain": [
              "<Figure size 432x288 with 1 Axes>"
            ],
            "image/png": "[encoded data removed]"
          },
          "metadata": {
            "needs_background": "light"
          }
        }
      ]
    },
    {
      "cell_type": "code",
      "source": [
        "!pip install -U keras-tuner\n",
        "import kerastuner as kt"
      ],
      "metadata": {
        "colab": {
          "base_uri": "https://localhost:8080/"
        },
        "id": "EQtzQ8-qTY94",
        "outputId": "6902b04d-267b-451a-90d2-d7a001230ce8"
      },
      "execution_count": null,
      "outputs": [
        {
          "output_type": "stream",
          "name": "stdout",
          "text": [
            "Looking in indexes: https://pypi.org/simple, https://us-python.pkg.dev/colab-wheels/public/simple/\n",
            "Collecting keras-tuner\n",
            "  Downloading keras_tuner-1.1.3-py3-none-any.whl (135 kB)\n",
            "\u001b[K     |████████████████████████████████| 135 kB 5.3 MB/s \n",
            "\u001b[?25hRequirement already satisfied: ipython in /usr/local/lib/python3.7/dist-packages (from keras-tuner) (7.9.0)\n",
            "Requirement already satisfied: packaging in /usr/local/lib/python3.7/dist-packages (from keras-tuner) (21.3)\n",
            "Requirement already satisfied: numpy in /usr/local/lib/python3.7/dist-packages (from keras-tuner) (1.21.6)\n",
            "Collecting kt-legacy\n",
            "  Downloading kt_legacy-1.0.4-py3-none-any.whl (9.6 kB)\n",
            "Requirement already satisfied: requests in /usr/local/lib/python3.7/dist-packages (from keras-tuner) (2.23.0)\n",
            "Requirement already satisfied: tensorboard in /usr/local/lib/python3.7/dist-packages (from keras-tuner) (2.9.1)\n",
            "Requirement already satisfied: pickleshare in /usr/local/lib/python3.7/dist-packages (from ipython->keras-tuner) (0.7.5)\n",
            "Requirement already satisfied: backcall in /usr/local/lib/python3.7/dist-packages (from ipython->keras-tuner) (0.2.0)\n",
            "Collecting jedi>=0.10\n",
            "  Downloading jedi-0.18.2-py2.py3-none-any.whl (1.6 MB)\n",
            "\u001b[K     |████████████████████████████████| 1.6 MB 45.5 MB/s \n",
            "\u001b[?25hRequirement already satisfied: decorator in /usr/local/lib/python3.7/dist-packages (from ipython->keras-tuner) (4.4.2)\n",
            "Requirement already satisfied: pexpect in /usr/local/lib/python3.7/dist-packages (from ipython->keras-tuner) (4.8.0)\n",
            "Requirement already satisfied: traitlets>=4.2 in /usr/local/lib/python3.7/dist-packages (from ipython->keras-tuner) (5.1.1)\n",
            "Requirement already satisfied: prompt-toolkit<2.1.0,>=2.0.0 in /usr/local/lib/python3.7/dist-packages (from ipython->keras-tuner) (2.0.10)\n",
            "Requirement already satisfied: pygments in /usr/local/lib/python3.7/dist-packages (from ipython->keras-tuner) (2.6.1)\n",
            "Requirement already satisfied: setuptools>=18.5 in /usr/local/lib/python3.7/dist-packages (from ipython->keras-tuner) (57.4.0)\n",
            "Requirement already satisfied: parso<0.9.0,>=0.8.0 in /usr/local/lib/python3.7/dist-packages (from jedi>=0.10->ipython->keras-tuner) (0.8.3)\n",
            "Requirement already satisfied: six>=1.9.0 in /usr/local/lib/python3.7/dist-packages (from prompt-toolkit<2.1.0,>=2.0.0->ipython->keras-tuner) (1.15.0)\n",
            "Requirement already satisfied: wcwidth in /usr/local/lib/python3.7/dist-packages (from prompt-toolkit<2.1.0,>=2.0.0->ipython->keras-tuner) (0.2.5)\n",
            "Requirement already satisfied: pyparsing!=3.0.5,>=2.0.2 in /usr/local/lib/python3.7/dist-packages (from packaging->keras-tuner) (3.0.9)\n",
            "Requirement already satisfied: ptyprocess>=0.5 in /usr/local/lib/python3.7/dist-packages (from pexpect->ipython->keras-tuner) (0.7.0)\n",
            "Requirement already satisfied: urllib3!=1.25.0,!=1.25.1,<1.26,>=1.21.1 in /usr/local/lib/python3.7/dist-packages (from requests->keras-tuner) (1.24.3)\n",
            "Requirement already satisfied: chardet<4,>=3.0.2 in /usr/local/lib/python3.7/dist-packages (from requests->keras-tuner) (3.0.4)\n",
            "Requirement already satisfied: idna<3,>=2.5 in /usr/local/lib/python3.7/dist-packages (from requests->keras-tuner) (2.10)\n",
            "Requirement already satisfied: certifi>=2017.4.17 in /usr/local/lib/python3.7/dist-packages (from requests->keras-tuner) (2022.9.24)\n",
            "Requirement already satisfied: tensorboard-plugin-wit>=1.6.0 in /usr/local/lib/python3.7/dist-packages (from tensorboard->keras-tuner) (1.8.1)\n",
            "Requirement already satisfied: protobuf<3.20,>=3.9.2 in /usr/local/lib/python3.7/dist-packages (from tensorboard->keras-tuner) (3.19.6)\n",
            "Requirement already satisfied: wheel>=0.26 in /usr/local/lib/python3.7/dist-packages (from tensorboard->keras-tuner) (0.38.4)\n",
            "Requirement already satisfied: google-auth<3,>=1.6.3 in /usr/local/lib/python3.7/dist-packages (from tensorboard->keras-tuner) (2.14.1)\n",
            "Requirement already satisfied: werkzeug>=1.0.1 in /usr/local/lib/python3.7/dist-packages (from tensorboard->keras-tuner) (1.0.1)\n",
            "Requirement already satisfied: markdown>=2.6.8 in /usr/local/lib/python3.7/dist-packages (from tensorboard->keras-tuner) (3.4.1)\n",
            "Requirement already satisfied: tensorboard-data-server<0.7.0,>=0.6.0 in /usr/local/lib/python3.7/dist-packages (from tensorboard->keras-tuner) (0.6.1)\n",
            "Requirement already satisfied: grpcio>=1.24.3 in /usr/local/lib/python3.7/dist-packages (from tensorboard->keras-tuner) (1.50.0)\n",
            "Requirement already satisfied: google-auth-oauthlib<0.5,>=0.4.1 in /usr/local/lib/python3.7/dist-packages (from tensorboard->keras-tuner) (0.4.6)\n",
            "Requirement already satisfied: absl-py>=0.4 in /usr/local/lib/python3.7/dist-packages (from tensorboard->keras-tuner) (1.3.0)\n",
            "Requirement already satisfied: pyasn1-modules>=0.2.1 in /usr/local/lib/python3.7/dist-packages (from google-auth<3,>=1.6.3->tensorboard->keras-tuner) (0.2.8)\n",
            "Requirement already satisfied: cachetools<6.0,>=2.0.0 in /usr/local/lib/python3.7/dist-packages (from google-auth<3,>=1.6.3->tensorboard->keras-tuner) (5.2.0)\n",
            "Requirement already satisfied: rsa<5,>=3.1.4 in /usr/local/lib/python3.7/dist-packages (from google-auth<3,>=1.6.3->tensorboard->keras-tuner) (4.9)\n",
            "Requirement already satisfied: requests-oauthlib>=0.7.0 in /usr/local/lib/python3.7/dist-packages (from google-auth-oauthlib<0.5,>=0.4.1->tensorboard->keras-tuner) (1.3.1)\n",
            "Requirement already satisfied: importlib-metadata>=4.4 in /usr/local/lib/python3.7/dist-packages (from markdown>=2.6.8->tensorboard->keras-tuner) (4.13.0)\n",
            "Requirement already satisfied: zipp>=0.5 in /usr/local/lib/python3.7/dist-packages (from importlib-metadata>=4.4->markdown>=2.6.8->tensorboard->keras-tuner) (3.10.0)\n",
            "Requirement already satisfied: typing-extensions>=3.6.4 in /usr/local/lib/python3.7/dist-packages (from importlib-metadata>=4.4->markdown>=2.6.8->tensorboard->keras-tuner) (4.1.1)\n",
            "Requirement already satisfied: pyasn1<0.5.0,>=0.4.6 in /usr/local/lib/python3.7/dist-packages (from pyasn1-modules>=0.2.1->google-auth<3,>=1.6.3->tensorboard->keras-tuner) (0.4.8)\n",
            "Requirement already satisfied: oauthlib>=3.0.0 in /usr/local/lib/python3.7/dist-packages (from requests-oauthlib>=0.7.0->google-auth-oauthlib<0.5,>=0.4.1->tensorboard->keras-tuner) (3.2.2)\n",
            "Installing collected packages: jedi, kt-legacy, keras-tuner\n",
            "Successfully installed jedi-0.18.2 keras-tuner-1.1.3 kt-legacy-1.0.4\n"
          ]
        },
        {
          "output_type": "stream",
          "name": "stderr",
          "text": [
            "/usr/local/lib/python3.7/dist-packages/ipykernel_launcher.py:2: DeprecationWarning: `import kerastuner` is deprecated, please use `import keras_tuner`.\n",
            "  \n"
          ]
        }
      ]
    },
    {
      "cell_type": "code",
      "source": [
        "def build_model(hp):\n",
        "    hp_filters = hp.Int('filters', min_value = 5, max_value = 100, step = 5)     # <--------- first HP\n",
        "    hp_units = hp.Int('dense_units', min_value = 10, max_value = 100, step = 10) # <--------- second HP\n",
        "    hp_drop_rate = hp.Float('dropout_rate', min_value = 0, max_value = 0.8)      # <--------- third HP\n",
        "\n",
        "    model = Sequential()\n",
        "    model.add(Conv1D(filters=hp_filters, kernel_size=3, activation='relu', input_shape=(n_timesteps,n_features)))\n",
        "    model.add(Conv1D(filters=hp_filters, kernel_size=3, activation='relu'))\n",
        "    model.add(Dropout(hp_drop_rate))\n",
        "    model.add(MaxPooling1D(pool_size=2))\n",
        "    model.add(Flatten())\n",
        "    model.add(Dense(hp_units, activation='relu'))\n",
        "    model.add(Dense(n_outputs, activation='softmax'))\n",
        "\n",
        "    model.compile(loss='categorical_crossentropy', optimizer='adam', metrics=['accuracy'])\n",
        "    return model"
      ],
      "metadata": {
        "id": "ZRC90qQTSQwJ"
      },
      "execution_count": null,
      "outputs": []
    },
    {
      "cell_type": "code",
      "source": [
        "tuner = kt.Hyperband(build_model,\n",
        "                     objective = 'val_accuracy', \n",
        "                     max_epochs = 27, # from the docs: It is recommended to set this to a value slightly higher than the expected time to convergence for your largest Model, and to use early stopping during training\n",
        "                     directory = '13_HyperParams',\n",
        "                     project_name = '13_KerasTuner')    "
      ],
      "metadata": {
        "id": "hfLQSFxZUJt3"
      },
      "execution_count": null,
      "outputs": []
    },
    {
      "cell_type": "markdown",
      "source": [
        "Print a summary of the search space."
      ],
      "metadata": {
        "id": "svuQI30iYIRy"
      }
    },
    {
      "cell_type": "code",
      "source": [
        "tuner.search_space_summary()"
      ],
      "metadata": {
        "colab": {
          "base_uri": "https://localhost:8080/"
        },
        "id": "pI6E0Q_pYJJB",
        "outputId": "95e5ddb0-c0d5-4e2a-928c-623304cc1ccf"
      },
      "execution_count": null,
      "outputs": [
        {
          "output_type": "stream",
          "name": "stdout",
          "text": [
            "Search space summary\n",
            "Default search space size: 3\n",
            "filters (Int)\n",
            "{'default': None, 'conditions': [], 'min_value': 5, 'max_value': 100, 'step': 5, 'sampling': None}\n",
            "dense_units (Int)\n",
            "{'default': None, 'conditions': [], 'min_value': 10, 'max_value': 100, 'step': 10, 'sampling': None}\n",
            "dropout_rate (Float)\n",
            "{'default': 0.0, 'conditions': [], 'min_value': 0.0, 'max_value': 0.8, 'step': None, 'sampling': None}\n"
          ]
        }
      ]
    },
    {
      "cell_type": "code",
      "source": [
        "X_tr, X_te = scale_data(trainX, testX)\n",
        "\n",
        "callbacks = [tf.keras.callbacks.EarlyStopping(monitor='val_accuracy',  patience=5, restore_best_weights=True)]\n",
        "tuner.search(X_tr, trainy, epochs=50, validation_split=0.2, callbacks=callbacks)"
      ],
      "metadata": {
        "colab": {
          "base_uri": "https://localhost:8080/"
        },
        "id": "e4INGy_tW8iZ",
        "outputId": "71be726e-92d2-4749-b54c-5ce5994b968f"
      },
      "execution_count": null,
      "outputs": [
        {
          "output_type": "stream",
          "name": "stdout",
          "text": [
            "Trial 70 Complete [00h 01m 14s]\n",
            "val_accuracy: 0.9401767253875732\n",
            "\n",
            "Best val_accuracy So Far: 0.9483344554901123\n",
            "Total elapsed time: 00h 29m 35s\n"
          ]
        }
      ]
    },
    {
      "cell_type": "markdown",
      "source": [
        "Print a summary of the results."
      ],
      "metadata": {
        "id": "_AoV-rOaYRFZ"
      }
    },
    {
      "cell_type": "code",
      "source": [
        "tuner.results_summary()"
      ],
      "metadata": {
        "colab": {
          "base_uri": "https://localhost:8080/"
        },
        "id": "woiRK152YU4B",
        "outputId": "49ac5dad-960a-42f7-c008-2f88691bece0"
      },
      "execution_count": null,
      "outputs": [
        {
          "output_type": "stream",
          "name": "stdout",
          "text": [
            "Results summary\n",
            "Results in 13_HyperParams/13_KerasTuner\n",
            "Showing 10 best trials\n",
            "<keras_tuner.engine.objective.Objective object at 0x7f6127d7a950>\n",
            "Trial summary\n",
            "Hyperparameters:\n",
            "filters: 50\n",
            "dense_units: 70\n",
            "dropout_rate: 0.5663344192492131\n",
            "tuner/epochs: 3\n",
            "tuner/initial_epoch: 0\n",
            "tuner/bracket: 2\n",
            "tuner/round: 0\n",
            "Score: 0.9483344554901123\n",
            "Trial summary\n",
            "Hyperparameters:\n",
            "filters: 75\n",
            "dense_units: 90\n",
            "dropout_rate: 0.5801594429985241\n",
            "tuner/epochs: 9\n",
            "tuner/initial_epoch: 3\n",
            "tuner/bracket: 3\n",
            "tuner/round: 2\n",
            "tuner/trial_id: 0032\n",
            "Score: 0.9456152319908142\n",
            "Trial summary\n",
            "Hyperparameters:\n",
            "filters: 95\n",
            "dense_units: 70\n",
            "dropout_rate: 0.7108742397330973\n",
            "tuner/epochs: 9\n",
            "tuner/initial_epoch: 0\n",
            "tuner/bracket: 1\n",
            "tuner/round: 0\n",
            "Score: 0.9408565759658813\n",
            "Trial summary\n",
            "Hyperparameters:\n",
            "filters: 80\n",
            "dense_units: 60\n",
            "dropout_rate: 0.261213855272395\n",
            "tuner/epochs: 27\n",
            "tuner/initial_epoch: 0\n",
            "tuner/bracket: 0\n",
            "tuner/round: 0\n",
            "Score: 0.9401767253875732\n",
            "Trial summary\n",
            "Hyperparameters:\n",
            "filters: 15\n",
            "dense_units: 50\n",
            "dropout_rate: 0.24149447441549976\n",
            "tuner/epochs: 9\n",
            "tuner/initial_epoch: 0\n",
            "tuner/bracket: 1\n",
            "tuner/round: 0\n",
            "Score: 0.9394969344139099\n",
            "Trial summary\n",
            "Hyperparameters:\n",
            "filters: 80\n",
            "dense_units: 60\n",
            "dropout_rate: 0.3648957191815747\n",
            "tuner/epochs: 9\n",
            "tuner/initial_epoch: 0\n",
            "tuner/bracket: 1\n",
            "tuner/round: 0\n",
            "Score: 0.9388171434402466\n",
            "Trial summary\n",
            "Hyperparameters:\n",
            "filters: 90\n",
            "dense_units: 10\n",
            "dropout_rate: 0.7952299622013324\n",
            "tuner/epochs: 3\n",
            "tuner/initial_epoch: 0\n",
            "tuner/bracket: 2\n",
            "tuner/round: 0\n",
            "Score: 0.9381372928619385\n",
            "Trial summary\n",
            "Hyperparameters:\n",
            "filters: 80\n",
            "dense_units: 40\n",
            "dropout_rate: 0.03557318669855514\n",
            "tuner/epochs: 9\n",
            "tuner/initial_epoch: 3\n",
            "tuner/bracket: 2\n",
            "tuner/round: 1\n",
            "tuner/trial_id: 0042\n",
            "Score: 0.9381372928619385\n",
            "Trial summary\n",
            "Hyperparameters:\n",
            "filters: 55\n",
            "dense_units: 50\n",
            "dropout_rate: 0.1652303028500084\n",
            "tuner/epochs: 9\n",
            "tuner/initial_epoch: 0\n",
            "tuner/bracket: 1\n",
            "tuner/round: 0\n",
            "Score: 0.9381372928619385\n",
            "Trial summary\n",
            "Hyperparameters:\n",
            "filters: 80\n",
            "dense_units: 40\n",
            "dropout_rate: 0.03557318669855514\n",
            "tuner/epochs: 3\n",
            "tuner/initial_epoch: 0\n",
            "tuner/bracket: 2\n",
            "tuner/round: 0\n",
            "Score: 0.9374575018882751\n"
          ]
        }
      ]
    },
    {
      "cell_type": "markdown",
      "source": [
        "Get the optimal hyperparameters and the best model"
      ],
      "metadata": {
        "id": "MdLhYi8ZYVQx"
      }
    },
    {
      "cell_type": "code",
      "source": [
        "best_hps = tuner.get_best_hyperparameters()[0]\n",
        "\n",
        "print(f\"Number of conv filters: {best_hps.get('filters')} \\nNumber of hidden units: {best_hps.get('dense_units')} \\nDropout rate: {best_hps.get('dropout_rate')}\")"
      ],
      "metadata": {
        "colab": {
          "base_uri": "https://localhost:8080/"
        },
        "id": "F8-ugHH5YVmx",
        "outputId": "67f2632d-7cdc-4596-e985-a14222e2d06a"
      },
      "execution_count": null,
      "outputs": [
        {
          "output_type": "stream",
          "name": "stdout",
          "text": [
            "Number of conv filters: 50 \n",
            "Number of hidden units: 70 \n",
            "Dropout rate: 0.5663344192492131\n"
          ]
        }
      ]
    },
    {
      "cell_type": "code",
      "source": [
        "best_model = tuner.get_best_models(num_models = 1)[0]"
      ],
      "metadata": {
        "id": "WEzKqJxNYk8p"
      },
      "execution_count": null,
      "outputs": []
    },
    {
      "cell_type": "markdown",
      "source": [
        "Build a new model from scratch with the best hyperparameter configuration."
      ],
      "metadata": {
        "id": "lnAG_zkMYrLK"
      }
    },
    {
      "cell_type": "code",
      "source": [
        "model = tuner.hypermodel.build(best_hps)"
      ],
      "metadata": {
        "id": "PgH2wtiXYuSC"
      },
      "execution_count": null,
      "outputs": []
    },
    {
      "cell_type": "code",
      "source": [
        "best_model.evaluate(X_te, testy)"
      ],
      "metadata": {
        "colab": {
          "base_uri": "https://localhost:8080/"
        },
        "id": "cvvPHnvqYukC",
        "outputId": "90970080-2e82-450d-f064-eb50cea35895"
      },
      "execution_count": null,
      "outputs": [
        {
          "output_type": "stream",
          "name": "stdout",
          "text": [
            "93/93 [==============================] - 1s 8ms/step - loss: 0.3009 - accuracy: 0.9013\n"
          ]
        },
        {
          "output_type": "execute_result",
          "data": {
            "text/plain": [
              "[0.3008520305156708, 0.9012554883956909]"
            ]
          },
          "metadata": {},
          "execution_count": 22
        }
      ]
    },
    {
      "cell_type": "markdown",
      "source": [
        "##Multi-Headed Convolutional Neural Network##\n",
        "\n",
        "Another popular approach with CNNs is to have a multi-headed model, where each head of the model reads the input time steps using a different sized kernel.\n",
        "\n",
        "For example, a three-headed model may have three different kernel sizes of 3, 5, 11, allowing the model to read and interpret the sequence data at three different resolutions. The interpretations from all three heads are then concatenated within the model and interpreted by a fully-connected layer before a prediction is made.\n",
        "\n",
        "We can implement a multi-headed 1D CNN using the Keras functional API.\n",
        "\n",
        "We can see that each head of the model is the same structure, although the kernel size is varied. The three heads then feed into a single merge layer before being interpreted prior to making a prediction.\n",
        "Other aspects of the model could be varied across the heads, such as the number of filters."
      ],
      "metadata": {
        "id": "EmOecpEBVAyh"
      }
    },
    {
      "cell_type": "code",
      "source": [
        "# mount drive \n",
        "from google.colab import drive\n",
        "drive.mount('/content/drive')"
      ],
      "metadata": {
        "colab": {
          "base_uri": "https://localhost:8080/"
        },
        "id": "DaQ7l76j1Qum",
        "outputId": "e68eb941-1ef3-4605-874b-6a714bd551ea"
      },
      "execution_count": null,
      "outputs": [
        {
          "output_type": "stream",
          "name": "stdout",
          "text": [
            "Mounted at /content/drive\n"
          ]
        }
      ]
    },
    {
      "cell_type": "code",
      "source": [
        "from keras.utils.vis_utils import model_to_dot, plot_model\n",
        "from IPython.display import SVG\n",
        "\n",
        "# head 1\n",
        "inputs1 = Input(shape=(n_timesteps,n_features))\n",
        "conv1 = Conv1D(filters=64, kernel_size=3, activation='relu')(inputs1)\n",
        "drop1 = Dropout(0.5)(conv1)\n",
        "pool1 = MaxPooling1D(pool_size=2)(drop1)\n",
        "flat1 = Flatten()(pool1)\n",
        "# head 2\n",
        "inputs2 = Input(shape=(n_timesteps,n_features))\n",
        "conv2 = Conv1D(filters=64, kernel_size=5, activation='relu')(inputs2)\n",
        "drop2 = Dropout(0.5)(conv2)\n",
        "pool2 = MaxPooling1D(pool_size=2)(drop2)\n",
        "flat2 = Flatten()(pool2)\n",
        "# head 3\n",
        "inputs3 = Input(shape=(n_timesteps,n_features))\n",
        "conv3 = Conv1D(filters=64, kernel_size=11, activation='relu')(inputs3)\n",
        "drop3 = Dropout(0.5)(conv3)\n",
        "pool3 = MaxPooling1D(pool_size=2)(drop3)\n",
        "flat3 = Flatten()(pool3)\n",
        "# merge\n",
        "merged = tf.keras.layers.concatenate([flat1, flat2, flat3], axis=-1)\n",
        "# interpretation\n",
        "dense1 = Dense(100, activation='relu')(merged)\n",
        "outputs = Dense(n_outputs, activation='softmax')(dense1)\n",
        "\n",
        "model = Model(inputs=[inputs1, inputs2, inputs3], outputs=outputs)\n",
        "\n",
        "SVG(model_to_dot(model, show_shapes=False, show_layer_names=True, dpi=100).create(prog='dot', format='svg'))\n",
        "\n",
        "# save a plot of the model\n",
        "plot_model(model, show_shapes=True, to_file='/content/drive/My Drive/[AIDE] 2022-2023 - Data/13_multi-headed_CNN.png')"
      ],
      "metadata": {
        "colab": {
          "base_uri": "https://localhost:8080/",
          "height": 865
        },
        "id": "81gY0VQNVQ0w",
        "outputId": "5160edee-9623-467b-9b1c-c6b0db421cc8"
      },
      "execution_count": null,
      "outputs": [
        {
          "output_type": "execute_result",
          "data": {
            "image/png": "[encoded data removed]",
            "text/plain": [
              "<IPython.core.display.Image object>"
            ]
          },
          "metadata": {},
          "execution_count": 24
        }
      ]
    },
    {
      "cell_type": "code",
      "source": [
        "model.compile(loss='categorical_crossentropy', optimizer='adam', metrics=['accuracy'])"
      ],
      "metadata": {
        "id": "z2DJVEzb2VZx"
      },
      "execution_count": null,
      "outputs": []
    },
    {
      "cell_type": "code",
      "source": [
        "# repeat experiment\n",
        "repeats = 3\n",
        "scores = list()\n",
        "for r in range(repeats):\n",
        "    # fit network\n",
        "    model.fit([trainX, trainX, trainX], trainy, epochs=epochs, batch_size=batch_size)\n",
        "    # evaluate model\n",
        "    _, accuracy = model.evaluate([testX, testX, testX], testy, batch_size=batch_size, verbose=0)\n",
        "    accuracy = accuracy * 100.0\n",
        "    print('>#%d: %.3f' % (r+1, accuracy))\n",
        "    scores.append(accuracy)\n",
        "\n",
        "# summarize results\n",
        "print(scores)\n",
        "m, s = np.mean(scores), np.std(scores)\n",
        "print('Accuracy: %.3f%% (+/-%.3f)' % (m, s))"
      ],
      "metadata": {
        "colab": {
          "base_uri": "https://localhost:8080/"
        },
        "id": "jwHmdnEUWEK4",
        "outputId": "e40a55e5-2ce9-4da5-807a-e27308e8559a"
      },
      "execution_count": null,
      "outputs": [
        {
          "output_type": "stream",
          "name": "stdout",
          "text": [
            "Epoch 1/10\n",
            "230/230 [==============================] - 12s 46ms/step - loss: 0.3279 - accuracy: 0.8708\n",
            "Epoch 2/10\n",
            "230/230 [==============================] - 15s 64ms/step - loss: 0.1218 - accuracy: 0.9498\n",
            "Epoch 3/10\n",
            "230/230 [==============================] - 10s 43ms/step - loss: 0.1060 - accuracy: 0.9542\n",
            "Epoch 4/10\n",
            "230/230 [==============================] - 10s 42ms/step - loss: 0.0974 - accuracy: 0.9595\n",
            "Epoch 5/10\n",
            "230/230 [==============================] - 10s 42ms/step - loss: 0.0969 - accuracy: 0.9588\n",
            "Epoch 6/10\n",
            "230/230 [==============================] - 10s 42ms/step - loss: 0.0971 - accuracy: 0.9569\n",
            "Epoch 7/10\n",
            "230/230 [==============================] - 10s 41ms/step - loss: 0.0833 - accuracy: 0.9614\n",
            "Epoch 8/10\n",
            "230/230 [==============================] - 10s 42ms/step - loss: 0.0790 - accuracy: 0.9641\n",
            "Epoch 9/10\n",
            "230/230 [==============================] - 12s 51ms/step - loss: 0.1117 - accuracy: 0.9574\n",
            "Epoch 10/10\n",
            "230/230 [==============================] - 10s 41ms/step - loss: 0.0875 - accuracy: 0.9606\n",
            ">#1: 93.146\n",
            "Epoch 1/10\n",
            "230/230 [==============================] - 10s 42ms/step - loss: 0.0746 - accuracy: 0.9642\n",
            "Epoch 2/10\n",
            "230/230 [==============================] - 9s 41ms/step - loss: 0.0661 - accuracy: 0.9708\n",
            "Epoch 3/10\n",
            "230/230 [==============================] - 10s 42ms/step - loss: 0.0682 - accuracy: 0.9682\n",
            "Epoch 4/10\n",
            "230/230 [==============================] - 10s 41ms/step - loss: 0.0653 - accuracy: 0.9703\n",
            "Epoch 5/10\n",
            "230/230 [==============================] - 9s 41ms/step - loss: 0.0638 - accuracy: 0.9718\n",
            "Epoch 6/10\n",
            "230/230 [==============================] - 9s 41ms/step - loss: 0.0618 - accuracy: 0.9733\n",
            "Epoch 7/10\n",
            "230/230 [==============================] - 9s 41ms/step - loss: 0.0569 - accuracy: 0.9739\n",
            "Epoch 8/10\n",
            "230/230 [==============================] - 9s 41ms/step - loss: 0.0559 - accuracy: 0.9757\n",
            "Epoch 9/10\n",
            "230/230 [==============================] - 9s 41ms/step - loss: 0.0539 - accuracy: 0.9762\n",
            "Epoch 10/10\n",
            "230/230 [==============================] - 10s 42ms/step - loss: 0.0519 - accuracy: 0.9784\n",
            ">#2: 92.162\n",
            "Epoch 1/10\n",
            "230/230 [==============================] - 9s 41ms/step - loss: 0.0473 - accuracy: 0.9789\n",
            "Epoch 2/10\n",
            "230/230 [==============================] - 9s 41ms/step - loss: 0.0497 - accuracy: 0.9774\n",
            "Epoch 3/10\n",
            "230/230 [==============================] - 9s 41ms/step - loss: 0.0517 - accuracy: 0.9788\n",
            "Epoch 4/10\n",
            "230/230 [==============================] - 11s 50ms/step - loss: 0.1161 - accuracy: 0.9721\n",
            "Epoch 5/10\n",
            "230/230 [==============================] - 9s 41ms/step - loss: 0.0474 - accuracy: 0.9801\n",
            "Epoch 6/10\n",
            "230/230 [==============================] - 9s 41ms/step - loss: 0.0410 - accuracy: 0.9826\n",
            "Epoch 7/10\n",
            "230/230 [==============================] - 9s 41ms/step - loss: 0.0386 - accuracy: 0.9834\n",
            "Epoch 8/10\n",
            "230/230 [==============================] - 9s 41ms/step - loss: 0.0393 - accuracy: 0.9838\n",
            "Epoch 9/10\n",
            "230/230 [==============================] - 9s 41ms/step - loss: 0.0372 - accuracy: 0.9841\n",
            "Epoch 10/10\n",
            "230/230 [==============================] - 9s 41ms/step - loss: 0.0398 - accuracy: 0.9835\n",
            ">#3: 90.431\n",
            "[93.14557313919067, 92.16151833534241, 90.43094515800476]\n",
            "Accuracy: 91.913% (+/-1.122)\n"
          ]
        }
      ]
    },
    {
      "cell_type": "markdown",
      "metadata": {
        "id": "ido4bz8lhZ3q"
      },
      "source": [
        "## Wrapping up\n",
        "\n",
        "Here's what you should take away from this section:\n",
        "\n",
        "* In the same way that 2D convnets perform well for processing visual patterns in 2D space, 1D convnets perform well for processing \n",
        "temporal patterns. They offer a faster alternative to RNNs on some problems, in particular NLP tasks.\n",
        "* Typically 1D convnets are structured much like their 2D equivalents from the world of computer vision: they consist of stacks of `Conv1D` \n",
        "layers and `MaxPooling1D` layers, eventually ending in a global pooling operation or flattening operation.\n",
        "\n",
        "One useful and important concept that we will not cover in these pages is that of 1D convolution with dilated kernels."
      ]
    }
  ],
  "metadata": {
    "kernelspec": {
      "display_name": "Python 3",
      "language": "python",
      "name": "python3"
    },
    "language_info": {
      "codemirror_mode": {
        "name": "ipython",
        "version": 3
      },
      "file_extension": ".py",
      "mimetype": "text/x-python",
      "name": "python",
      "nbconvert_exporter": "python",
      "pygments_lexer": "ipython3",
      "version": "3.5.2"
    },
    "colab": {
      "provenance": [],
      "collapsed_sections": [
        "ido4bz8lhZ3q"
      ],
      "include_colab_link": true
    }
  },
  "nbformat": 4,
  "nbformat_minor": 0
}