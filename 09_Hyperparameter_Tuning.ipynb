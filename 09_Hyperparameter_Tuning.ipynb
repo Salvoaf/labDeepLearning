{
  "cells": [
    {
      "cell_type": "markdown",
      "metadata": {
        "id": "view-in-github",
        "colab_type": "text"
      },
      "source": [
        "<a href=\"https://colab.research.google.com/github/Salvoaf/labDeepLearning/blob/main/09_Hyperparameter_Tuning.ipynb\" target=\"_parent\"><img src=\"https://colab.research.google.com/assets/colab-badge.svg\" alt=\"Open In Colab\"/></a>"
      ]
    },
    {
      "cell_type": "markdown",
      "metadata": {
        "id": "qFdPvlXBOdUN"
      },
      "source": [
        "# Introduction to Hyperparameter Optimization"
      ]
    },
    {
      "cell_type": "markdown",
      "source": [
        "*   Adapted from [this tutorial](https://www.tensorflow.org/tutorials/keras/keras_tuner?hl=uk)\n",
        "\n"
      ],
      "metadata": {
        "id": "OxXPAowqYRg3"
      }
    },
    {
      "cell_type": "markdown",
      "metadata": {
        "id": "xHxb-dlhMIzW"
      },
      "source": [
        "## Overview\n",
        "\n",
        "The Keras Tuner is a library that helps you pick the optimal set of hyperparameters for your TensorFlow program. The process of selecting the right set of hyperparameters for your machine learning (ML) application is called *hyperparameter tuning* or *hypertuning*.\n",
        "\n",
        "Hyperparameters are the variables that govern the training process and the topology of an ML model. These variables remain constant over the training process and directly impact the performance of your ML program. Hyperparameters are of two types:\n",
        "1. **Model hyperparameters** which influence model selection such as the number and width of hidden layers\n",
        "2. **Algorithm hyperparameters** which influence the speed and quality of the learning algorithm such as the learning rate for Stochastic Gradient Descent (SGD) and the number of nearest neighbors for a k Nearest Neighbors (KNN) classifier\n",
        "\n",
        "In this tutorial, you will use the Keras Tuner to perform hypertuning for an image classification application."
      ]
    },
    {
      "cell_type": "markdown",
      "source": [
        "In most of the examples we have seen so far, the behaviour of our classification model may be strongly influenced by a number of hyperparameters.\n",
        "\n",
        "*Trivial* solutions for hyperparameters tuning:\n",
        "*   experience with (and solid understanding of) the underlying algorithms;\n",
        "*   exploitation of the guidance of literature;\n",
        "*   exploitation of large-scale computational resources."
      ],
      "metadata": {
        "id": "B6imaqi6Kp3m"
      }
    },
    {
      "cell_type": "markdown",
      "source": [
        "When we have just to tune a **small number of hyperparameters**, two viable approaches are **grid search** and **random search**. \n",
        "Which one is better (i.e. more effective/efficient)? \n",
        "\n",
        "\n",
        "It is quite common that the hyperparameter optimization functions have a *low effective dimensionality*, i.e. they are more sensitive to changes in some dimensions than others. If we are aware of the most influential dimensions, we can desing an appropriate grid search. Otherwise, it is better to resort to random search.\n",
        "\n",
        "Consider the following example. We have a granted budget of 9 trials to explore a bidimensional hyperparameter space (e.g. learning rate and dropout rate of a layer).\n",
        "\n",
        "![Grid vs random](https://miro.medium.com/proxy/1*ZTlQm_WRcrNqL-nLnx6GJA.png)\n",
        "\n",
        "The **grid search** provides an even coverage of the original 2D space, but\n",
        "projections on the two dimensions produces a poor and inefficient coverage of the 1D subspaces. \n",
        "\n",
        "Conversely, **random search** provides a less evenly distributed coverage of the original space, but obtains a far more detailed insight on both the subspaces.\n",
        "\n",
        "More formally: the function $f$ to optimize can be approximated as $g$ due to low effective dimensionality:\n",
        "\n",
        "$$f(x, y) = g(x) + h(y) ≈ g(x)$$\n",
        "\n",
        "- **Grid search** tests $g$, represented as green plot in the above figure, for only three different values of $x$. \n",
        "- **Random search**, instead, tests distinct values in all nine trials."
      ],
      "metadata": {
        "id": "nw6Oz_6iSFHW"
      }
    },
    {
      "cell_type": "markdown",
      "source": [
        "The increasing attention gained by ML/DL has fostered the development of other, more sophisticated, **algorithmic approaches** for hyperparameter tuning, including Bayesian optimization approaches and gradient based approaches. In this notebook we will just provide the key concepts and leverage them in a practical example since they have been made available in ad-hoc python libraries.\n",
        "A recent example is the [keras tuner](https://keras-team.github.io/keras-tuner/) project.\n",
        "\n",
        "Keras tuner includes four classes of tuners:\n",
        "- [BayesianOptimization](https://distill.pub/2020/bayesian-optimization/)\n",
        "- [Hyperband](https://arxiv.org/pdf/1603.06560)\n",
        "- RandomSearch\n",
        "- Sklearn\n",
        "\n",
        "You can also use two pre-defined [HyperModel](https://keras.io/api/keras_tuner/hypermodels/) classes\n",
        "- [HyperXception](https://keras.io/api/keras_tuner/hypermodels/hyper_xception/)\n",
        "- [HyperResNet](https://keras.io/api/keras_tuner/hypermodels/hyper_resnet/)\n",
        "\n",
        "for computer vision applications."
      ],
      "metadata": {
        "id": "2-oJijpoSeAW"
      }
    },
    {
      "cell_type": "markdown",
      "source": [
        "# Hyperoptimization in practice"
      ],
      "metadata": {
        "id": "_G5DB_JpTPGo"
      }
    },
    {
      "cell_type": "markdown",
      "metadata": {
        "id": "MUXex9ctTuDB"
      },
      "source": [
        "## Setup"
      ]
    },
    {
      "cell_type": "code",
      "execution_count": null,
      "metadata": {
        "execution": {
          "iopub.execute_input": "2022-05-19T23:43:13.727010Z",
          "iopub.status.busy": "2022-05-19T23:43:13.726664Z",
          "iopub.status.idle": "2022-05-19T23:43:15.927691Z",
          "shell.execute_reply": "2022-05-19T23:43:15.926574Z"
        },
        "id": "IqR2PQG4ZaZ0"
      },
      "outputs": [],
      "source": [
        "import os\n",
        "import tensorflow as tf\n",
        "from tensorflow import keras\n",
        "import datetime"
      ]
    },
    {
      "cell_type": "markdown",
      "metadata": {
        "id": "g83Lwsy-Aq2_"
      },
      "source": [
        "Install and import the Keras Tuner."
      ]
    },
    {
      "cell_type": "code",
      "execution_count": null,
      "metadata": {
        "execution": {
          "iopub.execute_input": "2022-05-19T23:43:15.933191Z",
          "iopub.status.busy": "2022-05-19T23:43:15.932248Z",
          "iopub.status.idle": "2022-05-19T23:43:18.099537Z",
          "shell.execute_reply": "2022-05-19T23:43:18.098178Z"
        },
        "id": "hpMLpbt9jcO6",
        "colab": {
          "base_uri": "https://localhost:8080/"
        },
        "outputId": "39e09945-144d-47a4-8026-ddf5ab9909fe"
      },
      "outputs": [
        {
          "output_type": "stream",
          "name": "stdout",
          "text": [
            "\u001b[K     |████████████████████████████████| 135 kB 20.5 MB/s \n",
            "\u001b[K     |████████████████████████████████| 1.6 MB 21.7 MB/s \n",
            "\u001b[?25h"
          ]
        }
      ],
      "source": [
        "!pip install -q -U keras-tuner"
      ]
    },
    {
      "cell_type": "code",
      "execution_count": null,
      "metadata": {
        "execution": {
          "iopub.execute_input": "2022-05-19T23:43:18.104161Z",
          "iopub.status.busy": "2022-05-19T23:43:18.103843Z",
          "iopub.status.idle": "2022-05-19T23:43:18.392671Z",
          "shell.execute_reply": "2022-05-19T23:43:18.391753Z"
        },
        "id": "_leAIdFKAxAD"
      },
      "outputs": [],
      "source": [
        "import keras_tuner as kt"
      ]
    },
    {
      "cell_type": "code",
      "source": [
        "from google.colab import drive\n",
        "drive.mount('/content/drive/')"
      ],
      "metadata": {
        "colab": {
          "base_uri": "https://localhost:8080/"
        },
        "id": "x38hLTIRKR27",
        "outputId": "c2d21683-ec85-4ef4-bbb5-8402c72026ab"
      },
      "execution_count": null,
      "outputs": [
        {
          "output_type": "stream",
          "name": "stdout",
          "text": [
            "Mounted at /content/drive/\n"
          ]
        }
      ]
    },
    {
      "cell_type": "code",
      "source": [
        "# Create permanent folder in Google Drive\n",
        "my_dir = \"/content/drive/My Drive/[AIDE] 2022-2023 - Data/Tensorboard\"\n",
        "if not os.path.exists(my_dir):\n",
        "  os.makedirs(my_dir)\n",
        "log_dir = my_dir + \"/logs/\" + datetime.datetime.now().strftime(\"%m%d-%H%M\")"
      ],
      "metadata": {
        "id": "Ka9SYb7OJ9T8"
      },
      "execution_count": null,
      "outputs": []
    },
    {
      "cell_type": "markdown",
      "metadata": {
        "id": "ReV_UXOgCZvx"
      },
      "source": [
        "## Download and prepare the dataset\n",
        "\n",
        "In this tutorial, you will use the Keras Tuner to find the best hyperparameters for a machine learning model that classifies images of clothing from the [Fashion MNIST dataset](https://github.com/zalandoresearch/fashion-mnist)."
      ]
    },
    {
      "cell_type": "markdown",
      "metadata": {
        "id": "HljH_ENLEdHa"
      },
      "source": [
        "Load the data."
      ]
    },
    {
      "cell_type": "code",
      "execution_count": null,
      "metadata": {
        "execution": {
          "iopub.execute_input": "2022-05-19T23:43:18.397296Z",
          "iopub.status.busy": "2022-05-19T23:43:18.397002Z",
          "iopub.status.idle": "2022-05-19T23:43:18.832013Z",
          "shell.execute_reply": "2022-05-19T23:43:18.830913Z"
        },
        "id": "OHlHs9Wj_PUM",
        "colab": {
          "base_uri": "https://localhost:8080/"
        },
        "outputId": "781a7c79-1dbd-4602-cf01-3343c1e6f771"
      },
      "outputs": [
        {
          "output_type": "stream",
          "name": "stdout",
          "text": [
            "Downloading data from https://storage.googleapis.com/tensorflow/tf-keras-datasets/train-labels-idx1-ubyte.gz\n",
            "29515/29515 [==============================] - 0s 0us/step\n",
            "Downloading data from https://storage.googleapis.com/tensorflow/tf-keras-datasets/train-images-idx3-ubyte.gz\n",
            "26421880/26421880 [==============================] - 0s 0us/step\n",
            "Downloading data from https://storage.googleapis.com/tensorflow/tf-keras-datasets/t10k-labels-idx1-ubyte.gz\n",
            "5148/5148 [==============================] - 0s 0us/step\n",
            "Downloading data from https://storage.googleapis.com/tensorflow/tf-keras-datasets/t10k-images-idx3-ubyte.gz\n",
            "4422102/4422102 [==============================] - 0s 0us/step\n"
          ]
        }
      ],
      "source": [
        "(img_train, label_train), (img_test, label_test) = keras.datasets.fashion_mnist.load_data()"
      ]
    },
    {
      "cell_type": "code",
      "execution_count": null,
      "metadata": {
        "execution": {
          "iopub.execute_input": "2022-05-19T23:43:18.837182Z",
          "iopub.status.busy": "2022-05-19T23:43:18.836901Z",
          "iopub.status.idle": "2022-05-19T23:43:18.943264Z",
          "shell.execute_reply": "2022-05-19T23:43:18.942107Z"
        },
        "id": "bLVhXs3xrUD0"
      },
      "outputs": [],
      "source": [
        "# Normalize pixel values between 0 and 1\n",
        "img_train = img_train.astype('float32') / 255.0\n",
        "img_test = img_test.astype('float32') / 255.0"
      ]
    },
    {
      "cell_type": "markdown",
      "metadata": {
        "id": "K5YEL2H2Ax3e"
      },
      "source": [
        "## Define the model\n",
        "\n",
        "When you build a model for hypertuning, you also define the hyperparameter search space in addition to the model architecture. The model you set up for hypertuning is called a *hypermodel*.\n",
        "\n",
        "You can define a hypermodel through two approaches:\n",
        "\n",
        "* By using a model builder function\n",
        "* By subclassing the `HyperModel` class of the Keras Tuner API\n",
        "\n",
        "In this tutorial, you use a model builder function to define the image classification model. The model builder function returns a compiled model and uses hyperparameters you define inline to hypertune the model."
      ]
    },
    {
      "cell_type": "code",
      "execution_count": null,
      "metadata": {
        "execution": {
          "iopub.execute_input": "2022-05-19T23:43:18.948337Z",
          "iopub.status.busy": "2022-05-19T23:43:18.947953Z",
          "iopub.status.idle": "2022-05-19T23:43:18.955178Z",
          "shell.execute_reply": "2022-05-19T23:43:18.954193Z"
        },
        "id": "ZQKodC-jtsva"
      },
      "outputs": [],
      "source": [
        "def model_builder(hp):\n",
        "  model = keras.Sequential()\n",
        "  model.add(keras.layers.Flatten(input_shape=(28, 28)))\n",
        "\n",
        "  # Tune the number of units in the first Dense layer\n",
        "  # Choose an optimal value between 32-512\n",
        "  hp_units = hp.Int('units', min_value=32, max_value=512, step=32)\n",
        "  model.add(keras.layers.Dense(units=hp_units, activation='relu'))\n",
        "  model.add(keras.layers.Dense(10))\n",
        "\n",
        "  # Tune the learning rate for the optimizer\n",
        "  # Choose an optimal value from 0.01, 0.001, or 0.0001\n",
        "  hp_learning_rate = hp.Choice('learning_rate', values=[1e-2, 1e-3, 1e-4])\n",
        "\n",
        "  model.compile(optimizer=keras.optimizers.Adam(learning_rate=hp_learning_rate),\n",
        "                loss=keras.losses.SparseCategoricalCrossentropy(from_logits=True),\n",
        "                metrics=['accuracy'])\n",
        "\n",
        "  return model"
      ]
    },
    {
      "cell_type": "markdown",
      "metadata": {
        "id": "0J1VYw4q3x0b"
      },
      "source": [
        "## Instantiate the tuner and perform hypertuning\n",
        "\n",
        "Instantiate the tuner to perform the hypertuning. The Keras Tuner has four tuners available - `RandomSearch`, `Hyperband`, `BayesianOptimization`, and `Sklearn`. In this tutorial, you use the `Hyperband` tuner.\n",
        "\n",
        "To instantiate the Hyperband tuner, you must specify the hypermodel, the `objective` to optimize and the maximum number of epochs to train (`max_epochs`)."
      ]
    },
    {
      "cell_type": "code",
      "execution_count": null,
      "metadata": {
        "execution": {
          "iopub.execute_input": "2022-05-19T23:43:18.959292Z",
          "iopub.status.busy": "2022-05-19T23:43:18.959006Z",
          "iopub.status.idle": "2022-05-19T23:43:22.033121Z",
          "shell.execute_reply": "2022-05-19T23:43:22.032055Z"
        },
        "id": "oichQFly6Y46"
      },
      "outputs": [],
      "source": [
        "tuner = kt.Hyperband(model_builder,\n",
        "                     objective='val_accuracy',\n",
        "                     overwrite=True,\n",
        "                     max_epochs=10,\n",
        "                     factor=3,\n",
        "                     directory=log_dir,\n",
        "                     project_name='09_kerasTuner')"
      ]
    },
    {
      "cell_type": "markdown",
      "metadata": {
        "id": "VaIhhdKf9VtI"
      },
      "source": [
        "The Hyperband tuning algorithm uses adaptive resource allocation and early-stopping to quickly converge on a high-performing model. This is done using a sports championship style bracket. The algorithm trains a large number of models for a few epochs and carries forward only the top-performing half of models to the next round. Hyperband determines the number of models to train in a bracket by computing 1 + log<sub>`factor`</sub>(`max_epochs`) and rounding it up to the nearest integer."
      ]
    },
    {
      "cell_type": "markdown",
      "metadata": {
        "id": "cwhBdXx0Ekj8"
      },
      "source": [
        "Create a callback to stop training early after reaching a certain value for the validation loss."
      ]
    },
    {
      "cell_type": "code",
      "execution_count": null,
      "metadata": {
        "execution": {
          "iopub.execute_input": "2022-05-19T23:43:22.038137Z",
          "iopub.status.busy": "2022-05-19T23:43:22.037849Z",
          "iopub.status.idle": "2022-05-19T23:43:22.042640Z",
          "shell.execute_reply": "2022-05-19T23:43:22.041681Z"
        },
        "id": "WT9IkS9NEjLc"
      },
      "outputs": [],
      "source": [
        "stop_early = tf.keras.callbacks.EarlyStopping(monitor='val_loss', patience=5)"
      ]
    },
    {
      "cell_type": "markdown",
      "metadata": {
        "id": "UKghEo15Tduy"
      },
      "source": [
        "Run the hyperparameter search. The arguments for the search method are the same as those used for `tf.keras.model.fit` in addition to the callback above."
      ]
    },
    {
      "cell_type": "code",
      "execution_count": null,
      "metadata": {
        "execution": {
          "iopub.execute_input": "2022-05-19T23:43:22.046741Z",
          "iopub.status.busy": "2022-05-19T23:43:22.046142Z",
          "iopub.status.idle": "2022-05-19T23:52:01.508476Z",
          "shell.execute_reply": "2022-05-19T23:52:01.507512Z"
        },
        "id": "dSBQcTHF9cKt",
        "colab": {
          "base_uri": "https://localhost:8080/"
        },
        "outputId": "cf95e94a-bfd6-4327-b6e7-02b20189ed8c"
      },
      "outputs": [
        {
          "output_type": "stream",
          "name": "stdout",
          "text": [
            "Trial 30 Complete [00h 00m 44s]\n",
            "val_accuracy: 0.89041668176651\n",
            "\n",
            "Best val_accuracy So Far: 0.89041668176651\n",
            "Total elapsed time: 00h 11m 44s\n",
            "The hyperparameter search is complete.         The optimal number of units in the first densely-connected layer is 128 and         the optimal learning rate for the optimizer is 0.001.\n"
          ]
        }
      ],
      "source": [
        "tensorboard = keras.callbacks.TensorBoard(log_dir)\n",
        "tuner.search(img_train, label_train, epochs=50, validation_split=0.2, callbacks=[stop_early, tensorboard])\n",
        "\n",
        "# Get the optimal hyperparameters\n",
        "best_hps = tuner.get_best_hyperparameters(num_trials=1)[0]\n",
        "\n",
        "print(f\"The hyperparameter search is complete. \\\n",
        "        The optimal number of units in the first densely-connected layer is {best_hps.get('units')} and \\\n",
        "        the optimal learning rate for the optimizer is {best_hps.get('learning_rate')}.\")"
      ]
    },
    {
      "cell_type": "markdown",
      "source": [
        " The following two commands will show you the TensorBoard inside Colab.\n",
        "\n",
        " \n",
        "[TensorBoard](https://www.tensorflow.org/tensorboard/) is the TensorFlow visualization toolkit and provides the visualization and tooling needed for machine learning experimentation:\n",
        "*   Tracking and visualizing metrics such as loss and accuracy\n",
        "*   Visualizing the model graph (ops and layers)\n",
        "*   Viewing histograms of weights, biases, or other tensors as they change over time\n",
        "*   *Projecting embeddings to a lower dimensional space*\n",
        "*    Displaying images, text, and audio data\n",
        "*    Profiling TensorFlow programs\n"
      ],
      "metadata": {
        "id": "08Xk_FSjJk1k"
      }
    },
    {
      "cell_type": "code",
      "source": [
        "import tensorboard\n",
        "%load_ext tensorboard\n",
        "%tensorboard --logdir \"$log_dir\""
      ],
      "metadata": {
        "colab": {
          "base_uri": "https://localhost:8080/",
          "height": 821
        },
        "id": "qpzYOfXkJlME",
        "outputId": "a5c8351c-5457-4e08-ca83-b576c88cc447"
      },
      "execution_count": null,
      "outputs": []
    },
    {
      "cell_type": "markdown",
      "metadata": {
        "id": "Lak_ylf88xBv"
      },
      "source": [
        "## Train the model\n",
        "\n",
        "Find the optimal number of epochs to train the model with the hyperparameters obtained from the search."
      ]
    },
    {
      "cell_type": "code",
      "execution_count": null,
      "metadata": {
        "execution": {
          "iopub.execute_input": "2022-05-19T23:52:01.513243Z",
          "iopub.status.busy": "2022-05-19T23:52:01.512451Z",
          "iopub.status.idle": "2022-05-19T23:55:16.289138Z",
          "shell.execute_reply": "2022-05-19T23:55:16.288100Z"
        },
        "id": "McO82AXOuxXh",
        "colab": {
          "base_uri": "https://localhost:8080/"
        },
        "outputId": "a7225839-e6cf-4596-dee9-f3ea8be835de"
      },
      "outputs": [
        {
          "output_type": "stream",
          "name": "stdout",
          "text": [
            "Epoch 1/50\n",
            "1500/1500 [==============================] - 5s 3ms/step - loss: 0.5194 - accuracy: 0.8170 - val_loss: 0.4132 - val_accuracy: 0.8522\n",
            "Epoch 2/50\n",
            "1500/1500 [==============================] - 4s 3ms/step - loss: 0.3858 - accuracy: 0.8616 - val_loss: 0.3949 - val_accuracy: 0.8565\n",
            "Epoch 3/50\n",
            "1500/1500 [==============================] - 4s 3ms/step - loss: 0.3490 - accuracy: 0.8740 - val_loss: 0.3546 - val_accuracy: 0.8736\n",
            "Epoch 4/50\n",
            "1500/1500 [==============================] - 4s 3ms/step - loss: 0.3194 - accuracy: 0.8834 - val_loss: 0.3640 - val_accuracy: 0.8712\n",
            "Epoch 5/50\n",
            "1500/1500 [==============================] - 4s 3ms/step - loss: 0.3030 - accuracy: 0.8881 - val_loss: 0.3267 - val_accuracy: 0.8817\n",
            "Epoch 6/50\n",
            "1500/1500 [==============================] - 4s 3ms/step - loss: 0.2862 - accuracy: 0.8936 - val_loss: 0.3451 - val_accuracy: 0.8810\n",
            "Epoch 7/50\n",
            "1500/1500 [==============================] - 4s 3ms/step - loss: 0.2717 - accuracy: 0.8994 - val_loss: 0.3400 - val_accuracy: 0.8779\n",
            "Epoch 8/50\n",
            "1500/1500 [==============================] - 4s 3ms/step - loss: 0.2629 - accuracy: 0.9048 - val_loss: 0.3138 - val_accuracy: 0.8870\n",
            "Epoch 9/50\n",
            "1500/1500 [==============================] - 4s 3ms/step - loss: 0.2528 - accuracy: 0.9067 - val_loss: 0.3168 - val_accuracy: 0.8885\n",
            "Epoch 10/50\n",
            "1500/1500 [==============================] - 4s 3ms/step - loss: 0.2411 - accuracy: 0.9103 - val_loss: 0.3243 - val_accuracy: 0.8838\n",
            "Epoch 11/50\n",
            "1500/1500 [==============================] - 4s 3ms/step - loss: 0.2341 - accuracy: 0.9124 - val_loss: 0.3147 - val_accuracy: 0.8884\n",
            "Epoch 12/50\n",
            "1500/1500 [==============================] - 4s 3ms/step - loss: 0.2267 - accuracy: 0.9163 - val_loss: 0.3328 - val_accuracy: 0.8846\n",
            "Epoch 13/50\n",
            "1500/1500 [==============================] - 4s 3ms/step - loss: 0.2205 - accuracy: 0.9174 - val_loss: 0.3417 - val_accuracy: 0.8805\n",
            "Epoch 14/50\n",
            "1500/1500 [==============================] - 4s 3ms/step - loss: 0.2139 - accuracy: 0.9212 - val_loss: 0.3397 - val_accuracy: 0.8788\n",
            "Epoch 15/50\n",
            "1500/1500 [==============================] - 4s 3ms/step - loss: 0.2068 - accuracy: 0.9227 - val_loss: 0.3372 - val_accuracy: 0.8863\n",
            "Epoch 16/50\n",
            "1500/1500 [==============================] - 4s 3ms/step - loss: 0.1978 - accuracy: 0.9264 - val_loss: 0.3307 - val_accuracy: 0.8918\n",
            "Epoch 17/50\n",
            "1500/1500 [==============================] - 4s 3ms/step - loss: 0.1952 - accuracy: 0.9265 - val_loss: 0.3429 - val_accuracy: 0.8850\n",
            "Epoch 18/50\n",
            "1500/1500 [==============================] - 4s 3ms/step - loss: 0.1902 - accuracy: 0.9295 - val_loss: 0.3351 - val_accuracy: 0.8887\n",
            "Epoch 19/50\n",
            "1500/1500 [==============================] - 4s 3ms/step - loss: 0.1848 - accuracy: 0.9298 - val_loss: 0.3432 - val_accuracy: 0.8878\n",
            "Epoch 20/50\n",
            "1500/1500 [==============================] - 4s 3ms/step - loss: 0.1813 - accuracy: 0.9327 - val_loss: 0.3502 - val_accuracy: 0.8870\n",
            "Epoch 21/50\n",
            "1500/1500 [==============================] - 4s 3ms/step - loss: 0.1744 - accuracy: 0.9349 - val_loss: 0.3414 - val_accuracy: 0.8908\n",
            "Epoch 22/50\n",
            "1500/1500 [==============================] - 4s 3ms/step - loss: 0.1700 - accuracy: 0.9371 - val_loss: 0.3354 - val_accuracy: 0.8891\n",
            "Epoch 23/50\n",
            "1500/1500 [==============================] - 4s 3ms/step - loss: 0.1657 - accuracy: 0.9377 - val_loss: 0.3655 - val_accuracy: 0.8881\n",
            "Epoch 24/50\n",
            "1500/1500 [==============================] - 4s 3ms/step - loss: 0.1610 - accuracy: 0.9396 - val_loss: 0.3618 - val_accuracy: 0.8866\n",
            "Epoch 25/50\n",
            "1500/1500 [==============================] - 4s 3ms/step - loss: 0.1589 - accuracy: 0.9397 - val_loss: 0.3740 - val_accuracy: 0.8867\n",
            "Epoch 26/50\n",
            "1500/1500 [==============================] - 4s 3ms/step - loss: 0.1537 - accuracy: 0.9417 - val_loss: 0.3640 - val_accuracy: 0.8923\n",
            "Epoch 27/50\n",
            "1500/1500 [==============================] - 4s 3ms/step - loss: 0.1518 - accuracy: 0.9440 - val_loss: 0.3670 - val_accuracy: 0.8926\n",
            "Epoch 28/50\n",
            "1500/1500 [==============================] - 4s 3ms/step - loss: 0.1457 - accuracy: 0.9453 - val_loss: 0.3863 - val_accuracy: 0.8871\n",
            "Epoch 29/50\n",
            "1500/1500 [==============================] - 4s 3ms/step - loss: 0.1437 - accuracy: 0.9465 - val_loss: 0.3838 - val_accuracy: 0.8901\n",
            "Epoch 30/50\n",
            "1500/1500 [==============================] - 4s 3ms/step - loss: 0.1400 - accuracy: 0.9481 - val_loss: 0.3871 - val_accuracy: 0.8867\n",
            "Epoch 31/50\n",
            "1500/1500 [==============================] - 5s 3ms/step - loss: 0.1356 - accuracy: 0.9489 - val_loss: 0.3956 - val_accuracy: 0.8915\n",
            "Epoch 32/50\n",
            "1500/1500 [==============================] - 4s 3ms/step - loss: 0.1336 - accuracy: 0.9508 - val_loss: 0.4001 - val_accuracy: 0.8870\n",
            "Epoch 33/50\n",
            "1500/1500 [==============================] - 4s 3ms/step - loss: 0.1307 - accuracy: 0.9513 - val_loss: 0.4063 - val_accuracy: 0.8868\n",
            "Epoch 34/50\n",
            "1500/1500 [==============================] - 4s 3ms/step - loss: 0.1283 - accuracy: 0.9518 - val_loss: 0.4066 - val_accuracy: 0.8903\n",
            "Epoch 35/50\n",
            "1500/1500 [==============================] - 4s 3ms/step - loss: 0.1246 - accuracy: 0.9531 - val_loss: 0.4257 - val_accuracy: 0.8889\n",
            "Epoch 36/50\n",
            "1500/1500 [==============================] - 4s 3ms/step - loss: 0.1216 - accuracy: 0.9547 - val_loss: 0.4246 - val_accuracy: 0.8909\n",
            "Epoch 37/50\n",
            "1500/1500 [==============================] - 4s 3ms/step - loss: 0.1206 - accuracy: 0.9545 - val_loss: 0.4258 - val_accuracy: 0.8908\n",
            "Epoch 38/50\n",
            "1500/1500 [==============================] - 4s 3ms/step - loss: 0.1159 - accuracy: 0.9566 - val_loss: 0.4422 - val_accuracy: 0.8849\n",
            "Epoch 39/50\n",
            "1500/1500 [==============================] - 4s 3ms/step - loss: 0.1163 - accuracy: 0.9562 - val_loss: 0.4332 - val_accuracy: 0.8873\n",
            "Epoch 40/50\n",
            "1500/1500 [==============================] - 5s 3ms/step - loss: 0.1141 - accuracy: 0.9570 - val_loss: 0.4518 - val_accuracy: 0.8838\n",
            "Epoch 41/50\n",
            "1500/1500 [==============================] - 5s 3ms/step - loss: 0.1116 - accuracy: 0.9583 - val_loss: 0.4696 - val_accuracy: 0.8838\n",
            "Epoch 42/50\n",
            "1500/1500 [==============================] - 4s 3ms/step - loss: 0.1079 - accuracy: 0.9604 - val_loss: 0.4779 - val_accuracy: 0.8891\n",
            "Epoch 43/50\n",
            "1500/1500 [==============================] - 4s 3ms/step - loss: 0.1089 - accuracy: 0.9593 - val_loss: 0.4959 - val_accuracy: 0.8843\n",
            "Epoch 44/50\n",
            "1500/1500 [==============================] - 4s 3ms/step - loss: 0.1036 - accuracy: 0.9618 - val_loss: 0.4594 - val_accuracy: 0.8892\n",
            "Epoch 45/50\n",
            "1500/1500 [==============================] - 4s 3ms/step - loss: 0.1038 - accuracy: 0.9613 - val_loss: 0.4762 - val_accuracy: 0.8886\n",
            "Epoch 46/50\n",
            "1500/1500 [==============================] - 4s 3ms/step - loss: 0.1000 - accuracy: 0.9628 - val_loss: 0.5019 - val_accuracy: 0.8839\n",
            "Epoch 47/50\n",
            "1500/1500 [==============================] - 4s 3ms/step - loss: 0.1007 - accuracy: 0.9634 - val_loss: 0.4752 - val_accuracy: 0.8868\n",
            "Epoch 48/50\n",
            "1500/1500 [==============================] - 4s 3ms/step - loss: 0.0980 - accuracy: 0.9633 - val_loss: 0.4977 - val_accuracy: 0.8878\n",
            "Epoch 49/50\n",
            "1500/1500 [==============================] - 4s 3ms/step - loss: 0.0961 - accuracy: 0.9632 - val_loss: 0.4983 - val_accuracy: 0.8844\n",
            "Epoch 50/50\n",
            "1500/1500 [==============================] - 4s 3ms/step - loss: 0.0951 - accuracy: 0.9645 - val_loss: 0.5032 - val_accuracy: 0.8909\n",
            "Best epoch: 27\n"
          ]
        }
      ],
      "source": [
        "# Build the model with the optimal hyperparameters and train it on the data for 50 epochs\n",
        "model = tuner.hypermodel.build(best_hps)\n",
        "history = model.fit(img_train, label_train, epochs=50, validation_split=0.2)\n",
        "\n",
        "val_acc_per_epoch = history.history['val_accuracy']\n",
        "best_epoch = val_acc_per_epoch.index(max(val_acc_per_epoch)) + 1\n",
        "print('Best epoch: %d' % (best_epoch,))"
      ]
    },
    {
      "cell_type": "markdown",
      "metadata": {
        "id": "uOTSirSTI3Gp"
      },
      "source": [
        "Re-instantiate the hypermodel and train it with the optimal number of epochs from above."
      ]
    },
    {
      "cell_type": "code",
      "execution_count": null,
      "metadata": {
        "execution": {
          "iopub.execute_input": "2022-05-19T23:55:16.293302Z",
          "iopub.status.busy": "2022-05-19T23:55:16.293023Z",
          "iopub.status.idle": "2022-05-19T23:57:28.687990Z",
          "shell.execute_reply": "2022-05-19T23:57:28.686996Z"
        },
        "id": "NoiPUEHmMhCe",
        "colab": {
          "base_uri": "https://localhost:8080/"
        },
        "outputId": "3f80eebb-4abc-4c57-8cca-c99a9678ff72"
      },
      "outputs": [
        {
          "output_type": "stream",
          "name": "stdout",
          "text": [
            "Epoch 1/27\n",
            "1500/1500 [==============================] - 4s 3ms/step - loss: 0.5165 - accuracy: 0.8186 - val_loss: 0.4396 - val_accuracy: 0.8422\n",
            "Epoch 2/27\n",
            "1500/1500 [==============================] - 4s 3ms/step - loss: 0.3892 - accuracy: 0.8615 - val_loss: 0.3672 - val_accuracy: 0.8683\n",
            "Epoch 3/27\n",
            "1500/1500 [==============================] - 4s 3ms/step - loss: 0.3481 - accuracy: 0.8737 - val_loss: 0.3662 - val_accuracy: 0.8689\n",
            "Epoch 4/27\n",
            "1500/1500 [==============================] - 4s 3ms/step - loss: 0.3213 - accuracy: 0.8817 - val_loss: 0.3497 - val_accuracy: 0.8736\n",
            "Epoch 5/27\n",
            "1500/1500 [==============================] - 4s 3ms/step - loss: 0.3043 - accuracy: 0.8876 - val_loss: 0.3567 - val_accuracy: 0.8723\n",
            "Epoch 6/27\n",
            "1500/1500 [==============================] - 4s 3ms/step - loss: 0.2882 - accuracy: 0.8931 - val_loss: 0.3306 - val_accuracy: 0.8837\n",
            "Epoch 7/27\n",
            "1500/1500 [==============================] - 4s 3ms/step - loss: 0.2739 - accuracy: 0.8984 - val_loss: 0.3214 - val_accuracy: 0.8838\n",
            "Epoch 8/27\n",
            "1500/1500 [==============================] - 4s 3ms/step - loss: 0.2623 - accuracy: 0.9028 - val_loss: 0.3131 - val_accuracy: 0.8845\n",
            "Epoch 9/27\n",
            "1500/1500 [==============================] - 4s 3ms/step - loss: 0.2523 - accuracy: 0.9060 - val_loss: 0.3135 - val_accuracy: 0.8917\n",
            "Epoch 10/27\n",
            "1500/1500 [==============================] - 4s 3ms/step - loss: 0.2424 - accuracy: 0.9106 - val_loss: 0.3189 - val_accuracy: 0.8877\n",
            "Epoch 11/27\n",
            "1500/1500 [==============================] - 4s 3ms/step - loss: 0.2330 - accuracy: 0.9135 - val_loss: 0.3323 - val_accuracy: 0.8817\n",
            "Epoch 12/27\n",
            "1500/1500 [==============================] - 4s 3ms/step - loss: 0.2274 - accuracy: 0.9140 - val_loss: 0.3323 - val_accuracy: 0.8863\n",
            "Epoch 13/27\n",
            "1500/1500 [==============================] - 4s 3ms/step - loss: 0.2185 - accuracy: 0.9184 - val_loss: 0.3406 - val_accuracy: 0.8818\n",
            "Epoch 14/27\n",
            "1500/1500 [==============================] - 4s 3ms/step - loss: 0.2120 - accuracy: 0.9197 - val_loss: 0.3277 - val_accuracy: 0.8879\n",
            "Epoch 15/27\n",
            "1500/1500 [==============================] - 4s 3ms/step - loss: 0.2061 - accuracy: 0.9225 - val_loss: 0.3545 - val_accuracy: 0.8811\n",
            "Epoch 16/27\n",
            "1500/1500 [==============================] - 4s 3ms/step - loss: 0.2000 - accuracy: 0.9252 - val_loss: 0.3588 - val_accuracy: 0.8837\n",
            "Epoch 17/27\n",
            "1500/1500 [==============================] - 4s 3ms/step - loss: 0.1956 - accuracy: 0.9266 - val_loss: 0.3413 - val_accuracy: 0.8888\n",
            "Epoch 18/27\n",
            "1500/1500 [==============================] - 4s 3ms/step - loss: 0.1878 - accuracy: 0.9301 - val_loss: 0.3367 - val_accuracy: 0.8854\n",
            "Epoch 19/27\n",
            "1500/1500 [==============================] - 4s 3ms/step - loss: 0.1850 - accuracy: 0.9311 - val_loss: 0.3466 - val_accuracy: 0.8837\n",
            "Epoch 20/27\n",
            "1500/1500 [==============================] - 4s 3ms/step - loss: 0.1760 - accuracy: 0.9341 - val_loss: 0.3485 - val_accuracy: 0.8872\n",
            "Epoch 21/27\n",
            "1500/1500 [==============================] - 4s 3ms/step - loss: 0.1726 - accuracy: 0.9350 - val_loss: 0.3565 - val_accuracy: 0.8878\n",
            "Epoch 22/27\n",
            "1500/1500 [==============================] - 4s 3ms/step - loss: 0.1687 - accuracy: 0.9364 - val_loss: 0.3546 - val_accuracy: 0.8851\n",
            "Epoch 23/27\n",
            "1500/1500 [==============================] - 4s 3ms/step - loss: 0.1666 - accuracy: 0.9377 - val_loss: 0.3956 - val_accuracy: 0.8819\n",
            "Epoch 24/27\n",
            "1500/1500 [==============================] - 4s 3ms/step - loss: 0.1610 - accuracy: 0.9406 - val_loss: 0.3752 - val_accuracy: 0.8850\n",
            "Epoch 25/27\n",
            "1500/1500 [==============================] - 4s 3ms/step - loss: 0.1577 - accuracy: 0.9417 - val_loss: 0.3560 - val_accuracy: 0.8929\n",
            "Epoch 26/27\n",
            "1500/1500 [==============================] - 4s 3ms/step - loss: 0.1509 - accuracy: 0.9441 - val_loss: 0.3696 - val_accuracy: 0.8875\n",
            "Epoch 27/27\n",
            "1500/1500 [==============================] - 4s 3ms/step - loss: 0.1493 - accuracy: 0.9440 - val_loss: 0.3661 - val_accuracy: 0.8888\n"
          ]
        },
        {
          "output_type": "execute_result",
          "data": {
            "text/plain": [
              "<keras.callbacks.History at 0x7f4b5a1358d0>"
            ]
          },
          "metadata": {},
          "execution_count": 15
        }
      ],
      "source": [
        "hypermodel = tuner.hypermodel.build(best_hps)\n",
        "\n",
        "# Retrain the model\n",
        "hypermodel.fit(img_train, label_train, epochs=best_epoch, validation_split=0.2)"
      ]
    },
    {
      "cell_type": "markdown",
      "metadata": {
        "id": "MqU5ZVAaag2v"
      },
      "source": [
        "To finish this tutorial, evaluate the hypermodel on the test data."
      ]
    },
    {
      "cell_type": "code",
      "execution_count": null,
      "metadata": {
        "execution": {
          "iopub.execute_input": "2022-05-19T23:57:28.692246Z",
          "iopub.status.busy": "2022-05-19T23:57:28.691953Z",
          "iopub.status.idle": "2022-05-19T23:57:29.633125Z",
          "shell.execute_reply": "2022-05-19T23:57:29.632178Z"
        },
        "id": "9E0BTp9Ealjb",
        "colab": {
          "base_uri": "https://localhost:8080/"
        },
        "outputId": "88279c87-732b-45aa-ff41-a7d26fa783f5"
      },
      "outputs": [
        {
          "output_type": "stream",
          "name": "stdout",
          "text": [
            "313/313 [==============================] - 1s 2ms/step - loss: 0.4061 - accuracy: 0.8862\n",
            "[test loss, test accuracy]: [0.4060742259025574, 0.8862000107765198]\n"
          ]
        }
      ],
      "source": [
        "eval_result = hypermodel.evaluate(img_test, label_test)\n",
        "print(\"[test loss, test accuracy]:\", eval_result)"
      ]
    },
    {
      "cell_type": "markdown",
      "metadata": {
        "id": "EQRpPHZsz-eC"
      },
      "source": [
        "The `log_dir` directory contains detailed logs and checkpoints for every trial (model configuration) run during the hyperparameter search. If you re-run the hyperparameter search, the Keras Tuner uses the existing state from these logs to resume the search. To disable this behavior, pass an additional `overwrite=True` argument while instantiating the tuner."
      ]
    },
    {
      "cell_type": "markdown",
      "metadata": {
        "id": "sKwLOzKpFGAj"
      },
      "source": [
        "## Summary\n",
        "\n",
        "In this tutorial, you learned how to use the Keras Tuner to tune hyperparameters for a model. To learn more about the Keras Tuner, check out these additional resources:\n",
        "\n",
        "* [Keras Tuner on the TensorFlow blog](https://blog.tensorflow.org/2020/01/hyperparameter-tuning-with-keras-tuner.html)\n",
        "* [Keras Tuner website](https://keras-team.github.io/keras-tuner/)\n",
        "\n",
        "Also check out the [HParams Dashboard](https://www.tensorflow.org/tensorboard/hyperparameter_tuning_with_hparams) in TensorBoard to interactively tune your model hyperparameters."
      ]
    }
  ],
  "metadata": {
    "accelerator": "GPU",
    "colab": {
      "collapsed_sections": [],
      "provenance": [],
      "include_colab_link": true
    },
    "kernelspec": {
      "display_name": "Python 3",
      "name": "python3"
    },
    "language_info": {
      "codemirror_mode": {
        "name": "ipython",
        "version": 3
      },
      "file_extension": ".py",
      "mimetype": "text/x-python",
      "name": "python",
      "nbconvert_exporter": "python",
      "pygments_lexer": "ipython3",
      "version": "3.7.13"
    }
  },
  "nbformat": 4,
  "nbformat_minor": 0
}